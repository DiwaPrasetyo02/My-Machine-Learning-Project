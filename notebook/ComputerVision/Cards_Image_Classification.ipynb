{
  "nbformat": 4,
  "nbformat_minor": 0,
  "metadata": {
    "colab": {
      "provenance": [],
      "gpuType": "T4",
      "toc_visible": true
    },
    "kernelspec": {
      "name": "python3",
      "display_name": "Python 3"
    },
    "language_info": {
      "name": "python"
    },
    "accelerator": "GPU"
  },
  "cells": [
    {
      "cell_type": "markdown",
      "metadata": {
        "id": "H9wADwK78DCz"
      },
      "source": [
        "# Proyek Klasifikasi Gambar: Cards Image Classification\n"
      ]
    },
    {
      "cell_type": "markdown",
      "metadata": {
        "id": "H-z4QGlO8DC1"
      },
      "source": [
        "## Import Semua Packages/Library yang Digunakan"
      ]
    },
    {
      "cell_type": "code",
      "execution_count": null,
      "metadata": {
        "id": "FVYwaObI8DC1",
        "colab": {
          "base_uri": "https://localhost:8080/"
        },
        "outputId": "5bd7659d-ee8f-422a-930e-be0d17b18a66"
      },
      "outputs": [
        {
          "output_type": "stream",
          "name": "stdout",
          "text": [
            "TensorFlow version: 2.18.0\n"
          ]
        }
      ],
      "source": [
        "# --- 1. SETUP AND IMPORTS ---\n",
        "\n",
        "import tensorflow as tf\n",
        "from tensorflow import keras\n",
        "from tensorflow.keras import layers\n",
        "from tensorflow.keras.models import Sequential\n",
        "\n",
        "import matplotlib.pyplot as plt\n",
        "import os\n",
        "import zipfile\n",
        "\n",
        "print(\"TensorFlow version:\", tf.__version__)"
      ]
    },
    {
      "cell_type": "markdown",
      "source": [
        "## Data Preparation"
      ],
      "metadata": {
        "id": "TK4DvqfbYrN8"
      }
    },
    {
      "cell_type": "markdown",
      "metadata": {
        "id": "HHekw29KX4XQ"
      },
      "source": [
        "### Data Loading"
      ]
    },
    {
      "cell_type": "code",
      "metadata": {
        "colab": {
          "base_uri": "https://localhost:8080/",
          "height": 141
        },
        "id": "PdCRc2F1h5MK",
        "outputId": "eaaa3f3c-c990-4933-f66b-11ffaaf675c2"
      },
      "source": [
        "# --- Setting up Kaggle API Again ---\n",
        "# Re-running the Kaggle API setup to ensure credentials are correct.\n",
        "print(\"\\n--- Setting up Kaggle API Again ---\")\n",
        "# Install the Kaggle library quietly (already installed but safe to include)\n",
        "!pip install -q kaggle\n",
        "\n",
        "# Import the files module from google.colab to handle file uploads\n",
        "from google.colab import files\n",
        "\n",
        "# Prompt the user to upload the kaggle.json file\n",
        "print(\"Please upload your kaggle.json file again:\")\n",
        "uploaded = files.upload()\n",
        "\n",
        "# Check if the file was uploaded successfully\n",
        "if \"kaggle.json\" in uploaded:\n",
        "    print(\"kaggle.json uploaded successfully again!\")\n",
        "\n",
        "    # Create the .kaggle directory and move the json file there\n",
        "    !mkdir -p ~/.kaggle\n",
        "    !cp kaggle.json ~/.kaggle/\n",
        "\n",
        "    # Set permissions for the file to avoid warnings\n",
        "    !chmod 600 ~/.kaggle/kaggle.json\n",
        "\n",
        "    print(\"\\n--- Proceeding with Download and Extraction ---\")\n",
        "    # Now that Kaggle API is set up, re-attempt download and extraction\n",
        "    import zipfile\n",
        "    import os\n",
        "    import shutil\n",
        "\n",
        "    dataset_name = \"gpiosenka/cards-image-datasetclassification\"\n",
        "    zip_file_name = \"cards-image-datasetclassification.zip\"\n",
        "\n",
        "    # Remove existing zip file and extracted directory if they exist to ensure a clean extraction\n",
        "    if os.path.exists(zip_file_name):\n",
        "        os.remove(zip_file_name)\n",
        "    if os.path.exists('dataset_data'):\n",
        "        shutil.rmtree('dataset_data')\n",
        "    if os.path.exists('temp_all_images'):\n",
        "        shutil.rmtree('temp_all_images')\n",
        "    os.makedirs('temp_all_images', exist_ok=True)\n",
        "\n",
        "\n",
        "    !kaggle datasets download -d {dataset_name} --force\n",
        "\n",
        "    # Unzip the downloaded file into a directory named 'dataset_data'\n",
        "    with zipfile.ZipFile(zip_file_name, 'r') as zip_ref:\n",
        "        zip_ref.extractall(\"dataset_data\")\n",
        "\n",
        "    print(f\"Dataset extracted to 'dataset_data' directory.\")\n",
        "\n",
        "    # Now, proceed with copying the images as originally planned.\n",
        "    print(f\"\\n--- Copying all images to 'temp_all_images' ---\")\n",
        "\n",
        "    # Define the base directory of the dataset (should now exist)\n",
        "    base_dir = 'dataset_data'\n",
        "    train_dir = os.path.join(base_dir, 'train')\n",
        "    valid_dir = os.path.join(base_dir, 'valid')\n",
        "    test_dir = os.path.join(base_dir, 'test')\n",
        "\n",
        "    # Get a list of class names from the train directory (should now exist)\n",
        "    class_names = [d for d in os.listdir(train_dir) if os.path.isdir(os.path.join(train_dir, d))]\n",
        "\n",
        "    # Iterate through each class\n",
        "    for class_name in class_names:\n",
        "        # Iterate through train, valid, and test directories\n",
        "        for data_split_dir in [train_dir, valid_dir, test_dir]:\n",
        "            class_dir = os.path.join(data_split_dir, class_name)\n",
        "            if os.path.exists(class_dir):\n",
        "                # List all image files in the class directory\n",
        "                for image_name in os.listdir(class_dir):\n",
        "                    source_path = os.path.join(class_dir, image_name)\n",
        "                    # Construct the destination path in the temporary directory, including class name\n",
        "                    destination_path = os.path.join(temp_all_images_dir, f\"{class_name}_{image_name}\")\n",
        "                    # Copy the image file\n",
        "                    shutil.copy(source_path, destination_path)\n",
        "\n",
        "    print(\"Finished copying images.\")\n",
        "\n",
        "else:\n",
        "    print(\"Error: kaggle.json not found after re-upload. Please make sure you upload the correct file.\")\n",
        "    # Stop execution if the file is not provided\n",
        "    # I cannot use exit() here in the notebook context without stopping the kernel.\n",
        "    # I will report failure in the finish_task command if this happens."
      ],
      "execution_count": null,
      "outputs": [
        {
          "output_type": "stream",
          "name": "stdout",
          "text": [
            "\n",
            "--- Setting up Kaggle API Again ---\n",
            "Please upload your kaggle.json file again:\n"
          ]
        },
        {
          "output_type": "display_data",
          "data": {
            "text/plain": [
              "<IPython.core.display.HTML object>"
            ],
            "text/html": [
              "\n",
              "     <input type=\"file\" id=\"files-d6436b6a-34ba-4da8-8b6c-fab57d5fcfef\" name=\"files[]\" multiple disabled\n",
              "        style=\"border:none\" />\n",
              "     <output id=\"result-d6436b6a-34ba-4da8-8b6c-fab57d5fcfef\">\n",
              "      Upload widget is only available when the cell has been executed in the\n",
              "      current browser session. Please rerun this cell to enable.\n",
              "      </output>\n",
              "      <script>// Copyright 2017 Google LLC\n",
              "//\n",
              "// Licensed under the Apache License, Version 2.0 (the \"License\");\n",
              "// you may not use this file except in compliance with the License.\n",
              "// You may obtain a copy of the License at\n",
              "//\n",
              "//      http://www.apache.org/licenses/LICENSE-2.0\n",
              "//\n",
              "// Unless required by applicable law or agreed to in writing, software\n",
              "// distributed under the License is distributed on an \"AS IS\" BASIS,\n",
              "// WITHOUT WARRANTIES OR CONDITIONS OF ANY KIND, either express or implied.\n",
              "// See the License for the specific language governing permissions and\n",
              "// limitations under the License.\n",
              "\n",
              "/**\n",
              " * @fileoverview Helpers for google.colab Python module.\n",
              " */\n",
              "(function(scope) {\n",
              "function span(text, styleAttributes = {}) {\n",
              "  const element = document.createElement('span');\n",
              "  element.textContent = text;\n",
              "  for (const key of Object.keys(styleAttributes)) {\n",
              "    element.style[key] = styleAttributes[key];\n",
              "  }\n",
              "  return element;\n",
              "}\n",
              "\n",
              "// Max number of bytes which will be uploaded at a time.\n",
              "const MAX_PAYLOAD_SIZE = 100 * 1024;\n",
              "\n",
              "function _uploadFiles(inputId, outputId) {\n",
              "  const steps = uploadFilesStep(inputId, outputId);\n",
              "  const outputElement = document.getElementById(outputId);\n",
              "  // Cache steps on the outputElement to make it available for the next call\n",
              "  // to uploadFilesContinue from Python.\n",
              "  outputElement.steps = steps;\n",
              "\n",
              "  return _uploadFilesContinue(outputId);\n",
              "}\n",
              "\n",
              "// This is roughly an async generator (not supported in the browser yet),\n",
              "// where there are multiple asynchronous steps and the Python side is going\n",
              "// to poll for completion of each step.\n",
              "// This uses a Promise to block the python side on completion of each step,\n",
              "// then passes the result of the previous step as the input to the next step.\n",
              "function _uploadFilesContinue(outputId) {\n",
              "  const outputElement = document.getElementById(outputId);\n",
              "  const steps = outputElement.steps;\n",
              "\n",
              "  const next = steps.next(outputElement.lastPromiseValue);\n",
              "  return Promise.resolve(next.value.promise).then((value) => {\n",
              "    // Cache the last promise value to make it available to the next\n",
              "    // step of the generator.\n",
              "    outputElement.lastPromiseValue = value;\n",
              "    return next.value.response;\n",
              "  });\n",
              "}\n",
              "\n",
              "/**\n",
              " * Generator function which is called between each async step of the upload\n",
              " * process.\n",
              " * @param {string} inputId Element ID of the input file picker element.\n",
              " * @param {string} outputId Element ID of the output display.\n",
              " * @return {!Iterable<!Object>} Iterable of next steps.\n",
              " */\n",
              "function* uploadFilesStep(inputId, outputId) {\n",
              "  const inputElement = document.getElementById(inputId);\n",
              "  inputElement.disabled = false;\n",
              "\n",
              "  const outputElement = document.getElementById(outputId);\n",
              "  outputElement.innerHTML = '';\n",
              "\n",
              "  const pickedPromise = new Promise((resolve) => {\n",
              "    inputElement.addEventListener('change', (e) => {\n",
              "      resolve(e.target.files);\n",
              "    });\n",
              "  });\n",
              "\n",
              "  const cancel = document.createElement('button');\n",
              "  inputElement.parentElement.appendChild(cancel);\n",
              "  cancel.textContent = 'Cancel upload';\n",
              "  const cancelPromise = new Promise((resolve) => {\n",
              "    cancel.onclick = () => {\n",
              "      resolve(null);\n",
              "    };\n",
              "  });\n",
              "\n",
              "  // Wait for the user to pick the files.\n",
              "  const files = yield {\n",
              "    promise: Promise.race([pickedPromise, cancelPromise]),\n",
              "    response: {\n",
              "      action: 'starting',\n",
              "    }\n",
              "  };\n",
              "\n",
              "  cancel.remove();\n",
              "\n",
              "  // Disable the input element since further picks are not allowed.\n",
              "  inputElement.disabled = true;\n",
              "\n",
              "  if (!files) {\n",
              "    return {\n",
              "      response: {\n",
              "        action: 'complete',\n",
              "      }\n",
              "    };\n",
              "  }\n",
              "\n",
              "  for (const file of files) {\n",
              "    const li = document.createElement('li');\n",
              "    li.append(span(file.name, {fontWeight: 'bold'}));\n",
              "    li.append(span(\n",
              "        `(${file.type || 'n/a'}) - ${file.size} bytes, ` +\n",
              "        `last modified: ${\n",
              "            file.lastModifiedDate ? file.lastModifiedDate.toLocaleDateString() :\n",
              "                                    'n/a'} - `));\n",
              "    const percent = span('0% done');\n",
              "    li.appendChild(percent);\n",
              "\n",
              "    outputElement.appendChild(li);\n",
              "\n",
              "    const fileDataPromise = new Promise((resolve) => {\n",
              "      const reader = new FileReader();\n",
              "      reader.onload = (e) => {\n",
              "        resolve(e.target.result);\n",
              "      };\n",
              "      reader.readAsArrayBuffer(file);\n",
              "    });\n",
              "    // Wait for the data to be ready.\n",
              "    let fileData = yield {\n",
              "      promise: fileDataPromise,\n",
              "      response: {\n",
              "        action: 'continue',\n",
              "      }\n",
              "    };\n",
              "\n",
              "    // Use a chunked sending to avoid message size limits. See b/62115660.\n",
              "    let position = 0;\n",
              "    do {\n",
              "      const length = Math.min(fileData.byteLength - position, MAX_PAYLOAD_SIZE);\n",
              "      const chunk = new Uint8Array(fileData, position, length);\n",
              "      position += length;\n",
              "\n",
              "      const base64 = btoa(String.fromCharCode.apply(null, chunk));\n",
              "      yield {\n",
              "        response: {\n",
              "          action: 'append',\n",
              "          file: file.name,\n",
              "          data: base64,\n",
              "        },\n",
              "      };\n",
              "\n",
              "      let percentDone = fileData.byteLength === 0 ?\n",
              "          100 :\n",
              "          Math.round((position / fileData.byteLength) * 100);\n",
              "      percent.textContent = `${percentDone}% done`;\n",
              "\n",
              "    } while (position < fileData.byteLength);\n",
              "  }\n",
              "\n",
              "  // All done.\n",
              "  yield {\n",
              "    response: {\n",
              "      action: 'complete',\n",
              "    }\n",
              "  };\n",
              "}\n",
              "\n",
              "scope.google = scope.google || {};\n",
              "scope.google.colab = scope.google.colab || {};\n",
              "scope.google.colab._files = {\n",
              "  _uploadFiles,\n",
              "  _uploadFilesContinue,\n",
              "};\n",
              "})(self);\n",
              "</script> "
            ]
          },
          "metadata": {}
        },
        {
          "output_type": "stream",
          "name": "stdout",
          "text": [
            "Saving kaggle (2).json to kaggle (2).json\n",
            "Error: kaggle.json not found after re-upload. Please make sure you upload the correct file.\n"
          ]
        }
      ]
    },
    {
      "cell_type": "code",
      "source": [
        "import zipfile\n",
        "# --- Downloading and Extracting Dataset ---\n",
        "\n",
        "print(\"\\n--- Downloading and Extracting Dataset ---\")\n",
        "# Define the dataset path on Kaggle\n",
        "dataset_name = \"gpiosenka/cards-image-datasetclassification\" # Updated dataset name\n",
        "# The downloaded file will have the dataset name as the zip file name\n",
        "zip_file_name = \"cards-image-datasetclassification.zip\"\n",
        "!kaggle datasets download -d {dataset_name} --force\n",
        "\n",
        "# Unzip the downloaded file into a directory named 'dataset_data'\n",
        "with zipfile.ZipFile(zip_file_name, 'r') as zip_ref:\n",
        "    zip_ref.extractall(\"dataset_data\")\n",
        "\n",
        "print(f\"Dataset extracted to 'dataset_data' directory.\")\n",
        "\n",
        "\n",
        "base_dir = 'dataset_data'"
      ],
      "metadata": {
        "colab": {
          "base_uri": "https://localhost:8080/"
        },
        "id": "EooL572bGdPv",
        "outputId": "7890260a-1a2f-4e46-c577-11da91fa739e"
      },
      "execution_count": null,
      "outputs": [
        {
          "output_type": "stream",
          "name": "stdout",
          "text": [
            "\n",
            "--- Downloading and Extracting Dataset ---\n",
            "Dataset URL: https://www.kaggle.com/datasets/gpiosenka/cards-image-datasetclassification\n",
            "License(s): CC0-1.0\n",
            "Downloading cards-image-datasetclassification.zip to /content\n",
            " 91% 352M/385M [00:00<00:00, 430MB/s]\n",
            "100% 385M/385M [00:00<00:00, 461MB/s]\n",
            "Dataset extracted to 'dataset_data' directory.\n"
          ]
        }
      ]
    },
    {
      "cell_type": "markdown",
      "metadata": {
        "id": "7dbcd56c"
      },
      "source": [
        "## Gabungkan data\n",
        "\n",
        "### Subtask:\n",
        "Identifikasi semua subfolder kelas dalam direktori `dataset_data/train`, `dataset_data/valid`, dan `dataset_data/test`. Salin atau pindahkan semua gambar dari subfolder kelas tersebut ke dalam satu direktori sementara."
      ]
    },
    {
      "cell_type": "markdown",
      "metadata": {
        "id": "faea002b"
      },
      "source": [
        "**Reasoning**:\n",
        "To merge all image data into a single temporary directory, I need to iterate through the train, valid, and test directories within `dataset_data`, identify the class subfolders, and then copy all image files from these class subfolders into a new temporary directory. To preserve the class information during the merge, I will prepend the class name to the filename when copying to the temporary directory. This will allow for proper splitting later."
      ]
    },
    {
      "cell_type": "code",
      "metadata": {
        "colab": {
          "base_uri": "https://localhost:8080/"
        },
        "id": "48204956",
        "outputId": "604f1b6b-2c2d-4910-f247-eb471f81c5d3"
      },
      "source": [
        "import os\n",
        "import shutil\n",
        "\n",
        "# Define the base directory of the dataset\n",
        "base_dir = 'dataset_data'\n",
        "train_dir = os.path.join(base_dir, 'train')\n",
        "valid_dir = os.path.join(base_dir, 'valid')\n",
        "test_dir = os.path.join(base_dir, 'test')\n",
        "\n",
        "# Define the temporary directory to store all images\n",
        "temp_all_images_dir = 'temp_all_images'\n",
        "\n",
        "# Create the temporary directory if it doesn't exist\n",
        "os.makedirs(temp_all_images_dir, exist_ok=True)\n",
        "\n",
        "print(f\"--- Merging all images into '{temp_all_images_dir}' ---\")\n",
        "\n",
        "# Get a list of class names from the train directory (assuming train directory exists and has class subfolders)\n",
        "# I will add a check here to ensure the directory exists before listing.\n",
        "class_names = []\n",
        "if os.path.exists(train_dir):\n",
        "    class_names = [d for d in os.listdir(train_dir) if os.path.isdir(os.path.join(train_dir, d))]\n",
        "    print(f\"Found {len(class_names)} classes: {class_names}\")\n",
        "else:\n",
        "    print(f\"Error: Training directory '{train_dir}' not found. Please ensure the dataset is extracted correctly.\")\n",
        "    # I will not proceed with merging if the training directory is not found.\n",
        "\n",
        "# Iterate through each class\n",
        "for class_name in class_names:\n",
        "    # Iterate through train, valid, and test directories\n",
        "    for data_split_dir in [train_dir, valid_dir, test_dir]:\n",
        "        class_dir = os.path.join(data_split_dir, class_name)\n",
        "        if os.path.exists(class_dir):\n",
        "            # List all image files in the class directory\n",
        "            for image_name in os.listdir(class_dir):\n",
        "                source_path = os.path.join(class_dir, image_name)\n",
        "                # Construct the destination path in the temporary directory, including class name\n",
        "                destination_path = os.path.join(temp_all_images_dir, f\"{class_name}_{image_name}\")\n",
        "                # Copy the image file\n",
        "                shutil.copy(source_path, destination_path)\n",
        "        else:\n",
        "            # This might happen if a class is missing in valid or test, which is acceptable if train is complete.\n",
        "            print(f\"Warning: Directory '{class_dir}' not found. Skipping.\")\n",
        "\n",
        "\n",
        "print(\"Finished merging images into the temporary directory.\")"
      ],
      "execution_count": null,
      "outputs": [
        {
          "output_type": "stream",
          "name": "stdout",
          "text": [
            "--- Merging all images into 'temp_all_images' ---\n",
            "Found 53 classes: ['four of diamonds', 'ten of clubs', 'queen of diamonds', 'nine of clubs', 'eight of spades', 'nine of hearts', 'two of spades', 'king of hearts', 'jack of hearts', 'queen of clubs', 'three of clubs', 'eight of clubs', 'nine of spades', 'three of diamonds', 'king of diamonds', 'two of diamonds', 'seven of spades', 'queen of hearts', 'king of spades', 'six of clubs', 'five of spades', 'four of hearts', 'four of clubs', 'six of spades', 'six of diamonds', 'ten of spades', 'ten of hearts', 'five of clubs', 'three of spades', 'jack of diamonds', 'ten of diamonds', 'nine of diamonds', 'seven of hearts', 'king of clubs', 'ace of spades', 'jack of spades', 'ace of diamonds', 'two of clubs', 'five of hearts', 'ace of hearts', 'eight of hearts', 'seven of clubs', 'eight of diamonds', 'joker', 'ace of clubs', 'two of hearts', 'four of spades', 'three of hearts', 'five of diamonds', 'queen of spades', 'seven of diamonds', 'six of hearts', 'jack of clubs']\n",
            "Finished merging images into the temporary directory.\n"
          ]
        }
      ]
    },
    {
      "cell_type": "markdown",
      "metadata": {
        "id": "92351a19"
      },
      "source": [
        "## Buat direktori baru\n",
        "\n",
        "### Subtask:\n",
        "Buat struktur direktori baru untuk data pelatihan, validasi, dan pengujian, misalnya `dataset_baru/train`, `dataset_baru/valid`, `dataset_baru/test`, dengan subfolder untuk setiap kelas di dalamnya."
      ]
    },
    {
      "cell_type": "markdown",
      "metadata": {
        "id": "48603065"
      },
      "source": [
        "**Reasoning**:\n",
        "Create the new directory structure for the split dataset including the base, train, validation, and test directories, along with subdirectories for each class within each split."
      ]
    },
    {
      "cell_type": "code",
      "metadata": {
        "colab": {
          "base_uri": "https://localhost:8080/"
        },
        "id": "f2de31d5",
        "outputId": "3a0ab8d2-641c-479c-9745-0e89749952d3"
      },
      "source": [
        "import os\n",
        "\n",
        "# Define the base directory for the new dataset\n",
        "new_base_dir = 'dataset_baru'\n",
        "\n",
        "# Define the paths for the training, validation, and test directories\n",
        "new_train_dir = os.path.join(new_base_dir, 'train')\n",
        "new_valid_dir = os.path.join(new_base_dir, 'valid')\n",
        "new_test_dir = os.path.join(new_base_dir, 'test')\n",
        "\n",
        "# Create the new base directory and the split directories\n",
        "os.makedirs(new_base_dir, exist_ok=True)\n",
        "os.makedirs(new_train_dir, exist_ok=True)\n",
        "os.makedirs(new_valid_dir, exist_ok=True)\n",
        "os.makedirs(new_test_dir, exist_ok=True)\n",
        "\n",
        "# Get the list of class names (already available from previous steps)\n",
        "# class_names is a list of strings, e.g., ['class1', 'class2', ...]\n",
        "\n",
        "# Iterate through each class name and create subdirectories within each split\n",
        "for class_name in class_names:\n",
        "    os.makedirs(os.path.join(new_train_dir, class_name), exist_ok=True)\n",
        "    os.makedirs(os.path.join(new_valid_dir, class_name), exist_ok=True)\n",
        "    os.makedirs(os.path.join(new_test_dir, class_name), exist_ok=True)\n",
        "\n",
        "print(f\"Created new directory structure under '{new_base_dir}' with subdirectories for each class.\")"
      ],
      "execution_count": null,
      "outputs": [
        {
          "output_type": "stream",
          "name": "stdout",
          "text": [
            "Created new directory structure under 'dataset_baru' with subdirectories for each class.\n"
          ]
        }
      ]
    },
    {
      "cell_type": "markdown",
      "metadata": {
        "id": "85012f81"
      },
      "source": [
        "## Bagi data secara acak\n",
        "\n",
        "### Subtask:\n",
        "Bagi gambar-gambar dari direktori sementara secara acak ke dalam direktori train, valid, dan test yang baru, dengan menjaga proporsi kelas di setiap set."
      ]
    },
    {
      "cell_type": "markdown",
      "metadata": {
        "id": "8c8497b9"
      },
      "source": [
        "**Reasoning**:\n",
        "Implement the data splitting logic by iterating through the temporary directory, grouping images by class, shuffling them, calculating split sizes, and copying the images to the newly created train, valid, and test directories while removing the prepended class name from the filename."
      ]
    },
    {
      "cell_type": "code",
      "metadata": {
        "colab": {
          "base_uri": "https://localhost:8080/"
        },
        "id": "d01d91e6",
        "outputId": "51fcf2c0-58b6-4d17-aab7-63e22c2df553"
      },
      "source": [
        "import random\n",
        "import shutil\n",
        "import os\n",
        "\n",
        "# Define the temporary directory containing all images\n",
        "temp_all_images_dir = 'temp_all_images'\n",
        "\n",
        "# Define the base directory for the new dataset\n",
        "new_base_dir = 'dataset_baru'\n",
        "new_train_dir = os.path.join(new_base_dir, 'train')\n",
        "new_valid_dir = os.path.join(new_base_dir, 'valid')\n",
        "new_test_dir = os.path.join(new_base_dir, 'test')\n",
        "\n",
        "# List all image files in the temporary directory\n",
        "all_image_files = [f for f in os.listdir(temp_all_images_dir) if os.path.isfile(os.path.join(temp_all_images_dir, f))]\n",
        "\n",
        "# Create a dictionary to group image file paths by their class name\n",
        "images_by_class = {}\n",
        "for image_file in all_image_files:\n",
        "    # Extract the class name from the filename (before the first underscore)\n",
        "    class_name = image_file.split('_')[0]\n",
        "    if class_name not in images_by_class:\n",
        "        images_by_class[class_name] = []\n",
        "    images_by_class[class_name].append(image_file)\n",
        "\n",
        "print(f\"Found {len(all_image_files)} images across {len(images_by_class)} classes in the temporary directory.\")\n",
        "\n",
        "# Define the split ratios\n",
        "train_ratio = 0.8\n",
        "valid_ratio = 0.1\n",
        "test_ratio = 0.1\n",
        "\n",
        "# Iterate through each class and split the images\n",
        "for class_name, image_list in images_by_class.items():\n",
        "    # Randomly shuffle the list of image file paths for the current class\n",
        "    random.shuffle(image_list)\n",
        "\n",
        "    # Calculate the number of images for training, validation, and testing\n",
        "    total_images = len(image_list)\n",
        "    train_count = int(total_images * train_ratio)\n",
        "    valid_count = int(total_images * valid_ratio)\n",
        "    test_count = total_images - train_count - valid_count # Assign remaining to test\n",
        "\n",
        "    # Ensure counts are non-negative\n",
        "    train_count = max(0, train_count)\n",
        "    valid_count = max(0, valid_count)\n",
        "    test_count = max(0, test_count)\n",
        "\n",
        "\n",
        "    # Copy images to the corresponding new directories\n",
        "    # Training set\n",
        "    for i in range(train_count):\n",
        "        source_path = os.path.join(temp_all_images_dir, image_list[i])\n",
        "        # Remove the prepended class name and underscore for the new filename\n",
        "        original_filename = '_'.join(image_list[i].split('_')[1:])\n",
        "        destination_path = os.path.join(new_train_dir, class_name, original_filename)\n",
        "        shutil.copy(source_path, destination_path)\n",
        "\n",
        "    # Validation set\n",
        "    for i in range(train_count, train_count + valid_count):\n",
        "        source_path = os.path.join(temp_all_images_dir, image_list[i])\n",
        "        original_filename = '_'.join(image_list[i].split('_')[1:])\n",
        "        destination_path = os.path.join(new_valid_dir, class_name, original_filename)\n",
        "        shutil.copy(source_path, destination_path)\n",
        "\n",
        "    # Test set\n",
        "    for i in range(train_count + valid_count, total_images):\n",
        "        source_path = os.path.join(temp_all_images_dir, image_list[i])\n",
        "        original_filename = '_'.join(image_list[i].split('_')[1:])\n",
        "        destination_path = os.path.join(new_test_dir, class_name, original_filename)\n",
        "        shutil.copy(source_path, destination_path)\n",
        "\n",
        "    # Print progress for each class (optional)\n",
        "    print(f\"Split {class_name}: Train={train_count}, Valid={valid_count}, Test={test_count}\")\n",
        "\n",
        "print(\"\\nData splitting and copying to new directories completed.\")"
      ],
      "execution_count": null,
      "outputs": [
        {
          "output_type": "stream",
          "name": "stdout",
          "text": [
            "Found 7889 images across 53 classes in the temporary directory.\n",
            "Split jack of hearts: Train=138, Valid=17, Test=18\n",
            "Split queen of clubs: Train=132, Valid=16, Test=18\n",
            "Split queen of hearts: Train=115, Valid=14, Test=15\n",
            "Split five of diamonds: Train=114, Valid=14, Test=15\n",
            "Split seven of hearts: Train=118, Valid=14, Test=16\n",
            "Split ten of spades: Train=130, Valid=16, Test=17\n",
            "Split jack of diamonds: Train=132, Valid=16, Test=17\n",
            "Split eight of clubs: Train=114, Valid=14, Test=15\n",
            "Split nine of spades: Train=127, Valid=15, Test=17\n",
            "Split five of hearts: Train=112, Valid=14, Test=15\n",
            "Split eight of diamonds: Train=131, Valid=16, Test=17\n",
            "Split queen of spades: Train=133, Valid=16, Test=18\n",
            "Split two of hearts: Train=128, Valid=16, Test=16\n",
            "Split three of spades: Train=117, Valid=14, Test=16\n",
            "Split four of diamonds: Train=95, Valid=11, Test=13\n",
            "Split seven of spades: Train=136, Valid=17, Test=17\n",
            "Split five of spades: Train=130, Valid=16, Test=17\n",
            "Split ten of hearts: Train=107, Valid=13, Test=14\n",
            "Split nine of clubs: Train=103, Valid=12, Test=14\n",
            "Split ace of hearts: Train=140, Valid=17, Test=19\n",
            "Split queen of diamonds: Train=134, Valid=16, Test=18\n",
            "Split six of hearts: Train=105, Valid=13, Test=14\n",
            "Split king of hearts: Train=104, Valid=13, Test=13\n",
            "Split eight of hearts: Train=125, Valid=15, Test=17\n",
            "Split nine of diamonds: Train=107, Valid=13, Test=14\n",
            "Split four of clubs: Train=129, Valid=16, Test=17\n",
            "Split six of diamonds: Train=115, Valid=14, Test=15\n",
            "Split ten of clubs: Train=116, Valid=14, Test=16\n",
            "Split six of clubs: Train=125, Valid=15, Test=17\n",
            "Split king of diamonds: Train=112, Valid=14, Test=14\n",
            "Split eight of spades: Train=112, Valid=14, Test=14\n",
            "Split four of spades: Train=116, Valid=14, Test=15\n",
            "Split king of spades: Train=124, Valid=15, Test=17\n",
            "Split jack of spades: Train=141, Valid=17, Test=19\n",
            "Split four of hearts: Train=127, Valid=15, Test=17\n",
            "Split ace of spades: Train=148, Valid=18, Test=20\n",
            "Split king of clubs: Train=106, Valid=13, Test=14\n",
            "Split ten of diamonds: Train=124, Valid=15, Test=17\n",
            "Split ace of clubs: Train=100, Valid=12, Test=13\n",
            "Split three of hearts: Train=94, Valid=11, Test=13\n",
            "Split jack of clubs: Train=140, Valid=17, Test=19\n",
            "Split ace of diamonds: Train=107, Valid=13, Test=14\n",
            "Split seven of diamonds: Train=103, Valid=12, Test=14\n",
            "Split three of diamonds: Train=126, Valid=15, Test=17\n",
            "Split six of spades: Train=130, Valid=16, Test=17\n",
            "Split two of clubs: Train=108, Valid=13, Test=14\n",
            "Split three of clubs: Train=104, Valid=13, Test=14\n",
            "Split five of clubs: Train=124, Valid=15, Test=16\n",
            "Split seven of clubs: Train=90, Valid=11, Test=12\n",
            "Split two of diamonds: Train=110, Valid=13, Test=15\n",
            "Split two of spades: Train=128, Valid=16, Test=16\n",
            "Split nine of hearts: Train=110, Valid=13, Test=15\n",
            "Split joker: Train=96, Valid=12, Test=12\n",
            "\n",
            "Data splitting and copying to new directories completed.\n"
          ]
        }
      ]
    },
    {
      "cell_type": "markdown",
      "metadata": {
        "id": "a2c6ac72"
      },
      "source": [
        "## Bersihkan Direktori Sementara\n",
        "\n",
        "### Subtask:\n",
        "Hapus direktori sementara yang berisi semua gambar."
      ]
    },
    {
      "cell_type": "markdown",
      "metadata": {
        "id": "985748c0"
      },
      "source": [
        "**Reasoning**:\n",
        "The data splitting and copying to the new directories is complete. The next step is to remove the temporary directory as requested in the main task."
      ]
    },
    {
      "cell_type": "code",
      "metadata": {
        "colab": {
          "base_uri": "https://localhost:8080/"
        },
        "id": "7d372f56",
        "outputId": "d534c49f-9650-4307-e6a3-9c2aab8cea2f"
      },
      "source": [
        "import shutil\n",
        "import os\n",
        "\n",
        "# Remove the temporary directory containing all images\n",
        "temp_all_images_dir = 'temp_all_images'\n",
        "\n",
        "if os.path.exists(temp_all_images_dir):\n",
        "    shutil.rmtree(temp_all_images_dir)\n",
        "    print(f\"Temporary directory '{temp_all_images_dir}' removed.\")\n",
        "else:\n",
        "    print(f\"Temporary directory '{temp_all_images_dir}' does not exist.\")"
      ],
      "execution_count": null,
      "outputs": [
        {
          "output_type": "stream",
          "name": "stdout",
          "text": [
            "Temporary directory 'temp_all_images' removed.\n"
          ]
        }
      ]
    },
    {
      "cell_type": "markdown",
      "metadata": {
        "id": "bc72f32b"
      },
      "source": [
        "## Perbarui jalur data\n",
        "\n",
        "### Subtask:\n",
        "Sesuaikan kode pemuatan data (`image_dataset_from_directory`) untuk menggunakan direktori baru yang telah dibuat."
      ]
    },
    {
      "cell_type": "markdown",
      "metadata": {
        "id": "230454e1"
      },
      "source": [
        "**Reasoning**:\n",
        "Adjust the data loading code to use the new dataset directories."
      ]
    },
    {
      "cell_type": "code",
      "metadata": {
        "colab": {
          "base_uri": "https://localhost:8080/"
        },
        "id": "1ac57727",
        "outputId": "a254bb39-4654-4335-8c6e-37672454b006"
      },
      "source": [
        "import tensorflow as tf\n",
        "import os\n",
        "\n",
        "print(\"\\n--- Preparing Data for Training using New Directories ---\")\n",
        "\n",
        "# Define image dimensions and batch size\n",
        "IMG_HEIGHT = 200\n",
        "IMG_WIDTH = 200\n",
        "BATCH_SIZE = 32\n",
        "\n",
        "# Define the base directory for the NEW dataset\n",
        "new_base_dir = 'dataset_baru'\n",
        "train_dir = os.path.join(new_base_dir, 'train')\n",
        "valid_dir = os.path.join(new_base_dir, 'valid')\n",
        "test_dir = os.path.join(new_base_dir, 'test')\n",
        "\n",
        "# Create the training dataset from the new 'train' directory\n",
        "# No validation_split is needed here as we have separate directories\n",
        "train_ds = tf.keras.utils.image_dataset_from_directory(\n",
        "    train_dir,\n",
        "    seed=123,\n",
        "    image_size=(IMG_HEIGHT, IMG_WIDTH),\n",
        "    batch_size=BATCH_SIZE)\n",
        "\n",
        "# Create the validation dataset from the new 'valid' directory\n",
        "val_ds = tf.keras.utils.image_dataset_from_directory(\n",
        "    valid_dir,\n",
        "    seed=123,\n",
        "    image_size=(IMG_HEIGHT, IMG_WIDTH),\n",
        "    batch_size=BATCH_SIZE)\n",
        "\n",
        "# Create the test dataset from the new 'test' directory\n",
        "test_ds = tf.keras.utils.image_dataset_from_directory(\n",
        "    test_dir,\n",
        "    image_size=(IMG_HEIGHT, IMG_WIDTH),\n",
        "    batch_size=BATCH_SIZE)\n",
        "\n",
        "# Verify class names and number of classes from the new training dataset\n",
        "class_names = train_ds.class_names\n",
        "num_classes = len(class_names)\n",
        "print(f\"Found {num_classes} classes in the new dataset: {class_names}\")\n",
        "\n",
        "# Apply caching, shuffling, and prefetching to the datasets\n",
        "AUTOTUNE = tf.data.AUTOTUNE\n",
        "train_ds = train_ds.cache().shuffle(1000).prefetch(buffer_size=AUTOTUNE)\n",
        "val_ds = val_ds.cache().prefetch(buffer_size=AUTOTUNE)\n",
        "test_ds = test_ds.cache().prefetch(buffer_size=AUTOTUNE)\n",
        "\n",
        "print(\"\\n--- Data loading and preprocessing updated to use new directories ---\")"
      ],
      "execution_count": null,
      "outputs": [
        {
          "output_type": "stream",
          "name": "stdout",
          "text": [
            "\n",
            "--- Preparing Data for Training using New Directories ---\n",
            "Found 7878 files belonging to 53 classes.\n",
            "Found 2618 files belonging to 53 classes.\n",
            "Found 2862 files belonging to 53 classes.\n",
            "Found 53 classes in the new dataset: ['ace of clubs', 'ace of diamonds', 'ace of hearts', 'ace of spades', 'eight of clubs', 'eight of diamonds', 'eight of hearts', 'eight of spades', 'five of clubs', 'five of diamonds', 'five of hearts', 'five of spades', 'four of clubs', 'four of diamonds', 'four of hearts', 'four of spades', 'jack of clubs', 'jack of diamonds', 'jack of hearts', 'jack of spades', 'joker', 'king of clubs', 'king of diamonds', 'king of hearts', 'king of spades', 'nine of clubs', 'nine of diamonds', 'nine of hearts', 'nine of spades', 'queen of clubs', 'queen of diamonds', 'queen of hearts', 'queen of spades', 'seven of clubs', 'seven of diamonds', 'seven of hearts', 'seven of spades', 'six of clubs', 'six of diamonds', 'six of hearts', 'six of spades', 'ten of clubs', 'ten of diamonds', 'ten of hearts', 'ten of spades', 'three of clubs', 'three of diamonds', 'three of hearts', 'three of spades', 'two of clubs', 'two of diamonds', 'two of hearts', 'two of spades']\n",
            "\n",
            "--- Data loading and preprocessing updated to use new directories ---\n"
          ]
        }
      ]
    },
    {
      "cell_type": "markdown",
      "metadata": {
        "id": "c687a866"
      },
      "source": [
        "## Modelling"
      ]
    },
    {
      "cell_type": "code",
      "metadata": {
        "colab": {
          "base_uri": "https://localhost:8080/"
        },
        "id": "c81e25cf",
        "outputId": "c159742c-342c-4e30-a981-4719f5f0b24f"
      },
      "source": [
        "import tensorflow as tf\n",
        "from tensorflow import keras\n",
        "from tensorflow.keras import layers\n",
        "from tensorflow.keras.models import Sequential\n",
        "from tensorflow.keras.callbacks import EarlyStopping # Import EarlyStopping\n",
        "\n",
        "print(\"\\n--- Building the Improved CNN Model ---\")\n",
        "\n",
        "data_augmentation = keras.Sequential([\n",
        "    layers.RandomFlip(\"horizontal\", input_shape=(IMG_HEIGHT, IMG_WIDTH, 3)),\n",
        "    layers.RandomRotation(0.2),  # Meningkatkan rotasi\n",
        "    layers.RandomZoom(0.2),      # Meningkatkan zoom\n",
        "    layers.RandomContrast(0.2),  # Menambahkan kontras\n",
        "    layers.RandomBrightness(0.2) # Menambahkan kecerahan\n",
        "])\n",
        "\n",
        "model = tf.keras.models.Sequential([\n",
        "    # First convolutional block\n",
        "    tf.keras.layers.Conv2D(32, (3,3), activation='relu',\n",
        "                          kernel_regularizer=tf.keras.regularizers.l2(0.001),\n",
        "                          input_shape=(IMG_HEIGHT, IMG_WIDTH, 3)),\n",
        "    tf.keras.layers.BatchNormalization(),\n",
        "    tf.keras.layers.MaxPooling2D(2, 2),\n",
        "    tf.keras.layers.Dropout(0.25),\n",
        "\n",
        "    # Second convolutional block\n",
        "    tf.keras.layers.Conv2D(64, (3,3), activation='relu',\n",
        "                          kernel_regularizer=tf.keras.regularizers.l2(0.001)),\n",
        "    tf.keras.layers.BatchNormalization(),\n",
        "    tf.keras.layers.MaxPooling2D(2,2),\n",
        "    tf.keras.layers.Dropout(0.25),\n",
        "\n",
        "    # Third convolutional block\n",
        "    tf.keras.layers.Conv2D(128, (3,3), activation='relu',\n",
        "                          kernel_regularizer=tf.keras.regularizers.l2(0.001)),\n",
        "    tf.keras.layers.BatchNormalization(),\n",
        "    tf.keras.layers.MaxPooling2D(2,2),\n",
        "    tf.keras.layers.Dropout(0.25),\n",
        "\n",
        "    # Fourth convolutional block\n",
        "    tf.keras.layers.Conv2D(256, (3,3), activation='relu',\n",
        "                          kernel_regularizer=tf.keras.regularizers.l2(0.001)),\n",
        "    tf.keras.layers.BatchNormalization(),\n",
        "    tf.keras.layers.MaxPooling2D(2,2),\n",
        "    tf.keras.layers.Dropout(0.25),\n",
        "\n",
        "    # Flatten and dense layers\n",
        "    tf.keras.layers.Flatten(),\n",
        "    tf.keras.layers.Dense(256, activation='relu',\n",
        "                         kernel_regularizer=tf.keras.regularizers.l2(0.001)),\n",
        "    tf.keras.layers.BatchNormalization(),\n",
        "    tf.keras.layers.Dropout(0.5),\n",
        "    tf.keras.layers.Dense(num_classes, activation='softmax')\n",
        "])"
      ],
      "execution_count": null,
      "outputs": [
        {
          "output_type": "stream",
          "name": "stdout",
          "text": [
            "\n",
            "--- Building the Improved CNN Model ---\n"
          ]
        },
        {
          "output_type": "stream",
          "name": "stderr",
          "text": [
            "/usr/local/lib/python3.11/dist-packages/keras/src/layers/preprocessing/tf_data_layer.py:19: UserWarning: Do not pass an `input_shape`/`input_dim` argument to a layer. When using Sequential models, prefer using an `Input(shape)` object as the first layer in the model instead.\n",
            "  super().__init__(**kwargs)\n",
            "/usr/local/lib/python3.11/dist-packages/keras/src/layers/convolutional/base_conv.py:107: UserWarning: Do not pass an `input_shape`/`input_dim` argument to a layer. When using Sequential models, prefer using an `Input(shape)` object as the first layer in the model instead.\n",
            "  super().__init__(activity_regularizer=activity_regularizer, **kwargs)\n"
          ]
        }
      ]
    },
    {
      "cell_type": "code",
      "metadata": {
        "colab": {
          "base_uri": "https://localhost:8080/",
          "height": 929
        },
        "id": "854216aa",
        "outputId": "35a0cd4d-7897-4e3c-eb0c-65943a2c8f1d"
      },
      "source": [
        "# --- 6. COMPILE THE MODEL ---\n",
        "# We configure the model for training by specifying the optimizer, loss function, and metrics.\n",
        "\n",
        "print(\"\\n--- Compiling the Model ---\")\n",
        "# PERBAIKAN 3: Optimizer dengan Learning Rate yang Lebih Kecil\n",
        "model.compile(\n",
        "    optimizer=keras.optimizers.Adam(learning_rate=0.0001),  # Learning rate lebih kecil\n",
        "    loss='sparse_categorical_crossentropy', # Changed loss function to sparse_categorical_crossentropy\n",
        "    metrics=['accuracy']\n",
        ")\n",
        "\n",
        "model.summary()"
      ],
      "execution_count": null,
      "outputs": [
        {
          "output_type": "stream",
          "name": "stdout",
          "text": [
            "\n",
            "--- Compiling the Model ---\n"
          ]
        },
        {
          "output_type": "display_data",
          "data": {
            "text/plain": [
              "\u001b[1mModel: \"sequential_1\"\u001b[0m\n"
            ],
            "text/html": [
              "<pre style=\"white-space:pre;overflow-x:auto;line-height:normal;font-family:Menlo,'DejaVu Sans Mono',consolas,'Courier New',monospace\"><span style=\"font-weight: bold\">Model: \"sequential_1\"</span>\n",
              "</pre>\n"
            ]
          },
          "metadata": {}
        },
        {
          "output_type": "display_data",
          "data": {
            "text/plain": [
              "┏━━━━━━━━━━━━━━━━━━━━━━━━━━━━━━━━━┳━━━━━━━━━━━━━━━━━━━━━━━━┳━━━━━━━━━━━━━━━┓\n",
              "┃\u001b[1m \u001b[0m\u001b[1mLayer (type)                   \u001b[0m\u001b[1m \u001b[0m┃\u001b[1m \u001b[0m\u001b[1mOutput Shape          \u001b[0m\u001b[1m \u001b[0m┃\u001b[1m \u001b[0m\u001b[1m      Param #\u001b[0m\u001b[1m \u001b[0m┃\n",
              "┡━━━━━━━━━━━━━━━━━━━━━━━━━━━━━━━━━╇━━━━━━━━━━━━━━━━━━━━━━━━╇━━━━━━━━━━━━━━━┩\n",
              "│ conv2d (\u001b[38;5;33mConv2D\u001b[0m)                 │ (\u001b[38;5;45mNone\u001b[0m, \u001b[38;5;34m198\u001b[0m, \u001b[38;5;34m198\u001b[0m, \u001b[38;5;34m32\u001b[0m)   │           \u001b[38;5;34m896\u001b[0m │\n",
              "├─────────────────────────────────┼────────────────────────┼───────────────┤\n",
              "│ batch_normalization             │ (\u001b[38;5;45mNone\u001b[0m, \u001b[38;5;34m198\u001b[0m, \u001b[38;5;34m198\u001b[0m, \u001b[38;5;34m32\u001b[0m)   │           \u001b[38;5;34m128\u001b[0m │\n",
              "│ (\u001b[38;5;33mBatchNormalization\u001b[0m)            │                        │               │\n",
              "├─────────────────────────────────┼────────────────────────┼───────────────┤\n",
              "│ max_pooling2d (\u001b[38;5;33mMaxPooling2D\u001b[0m)    │ (\u001b[38;5;45mNone\u001b[0m, \u001b[38;5;34m99\u001b[0m, \u001b[38;5;34m99\u001b[0m, \u001b[38;5;34m32\u001b[0m)     │             \u001b[38;5;34m0\u001b[0m │\n",
              "├─────────────────────────────────┼────────────────────────┼───────────────┤\n",
              "│ dropout (\u001b[38;5;33mDropout\u001b[0m)               │ (\u001b[38;5;45mNone\u001b[0m, \u001b[38;5;34m99\u001b[0m, \u001b[38;5;34m99\u001b[0m, \u001b[38;5;34m32\u001b[0m)     │             \u001b[38;5;34m0\u001b[0m │\n",
              "├─────────────────────────────────┼────────────────────────┼───────────────┤\n",
              "│ conv2d_1 (\u001b[38;5;33mConv2D\u001b[0m)               │ (\u001b[38;5;45mNone\u001b[0m, \u001b[38;5;34m97\u001b[0m, \u001b[38;5;34m97\u001b[0m, \u001b[38;5;34m64\u001b[0m)     │        \u001b[38;5;34m18,496\u001b[0m │\n",
              "├─────────────────────────────────┼────────────────────────┼───────────────┤\n",
              "│ batch_normalization_1           │ (\u001b[38;5;45mNone\u001b[0m, \u001b[38;5;34m97\u001b[0m, \u001b[38;5;34m97\u001b[0m, \u001b[38;5;34m64\u001b[0m)     │           \u001b[38;5;34m256\u001b[0m │\n",
              "│ (\u001b[38;5;33mBatchNormalization\u001b[0m)            │                        │               │\n",
              "├─────────────────────────────────┼────────────────────────┼───────────────┤\n",
              "│ max_pooling2d_1 (\u001b[38;5;33mMaxPooling2D\u001b[0m)  │ (\u001b[38;5;45mNone\u001b[0m, \u001b[38;5;34m48\u001b[0m, \u001b[38;5;34m48\u001b[0m, \u001b[38;5;34m64\u001b[0m)     │             \u001b[38;5;34m0\u001b[0m │\n",
              "├─────────────────────────────────┼────────────────────────┼───────────────┤\n",
              "│ dropout_1 (\u001b[38;5;33mDropout\u001b[0m)             │ (\u001b[38;5;45mNone\u001b[0m, \u001b[38;5;34m48\u001b[0m, \u001b[38;5;34m48\u001b[0m, \u001b[38;5;34m64\u001b[0m)     │             \u001b[38;5;34m0\u001b[0m │\n",
              "├─────────────────────────────────┼────────────────────────┼───────────────┤\n",
              "│ conv2d_2 (\u001b[38;5;33mConv2D\u001b[0m)               │ (\u001b[38;5;45mNone\u001b[0m, \u001b[38;5;34m46\u001b[0m, \u001b[38;5;34m46\u001b[0m, \u001b[38;5;34m128\u001b[0m)    │        \u001b[38;5;34m73,856\u001b[0m │\n",
              "├─────────────────────────────────┼────────────────────────┼───────────────┤\n",
              "│ batch_normalization_2           │ (\u001b[38;5;45mNone\u001b[0m, \u001b[38;5;34m46\u001b[0m, \u001b[38;5;34m46\u001b[0m, \u001b[38;5;34m128\u001b[0m)    │           \u001b[38;5;34m512\u001b[0m │\n",
              "│ (\u001b[38;5;33mBatchNormalization\u001b[0m)            │                        │               │\n",
              "├─────────────────────────────────┼────────────────────────┼───────────────┤\n",
              "│ max_pooling2d_2 (\u001b[38;5;33mMaxPooling2D\u001b[0m)  │ (\u001b[38;5;45mNone\u001b[0m, \u001b[38;5;34m23\u001b[0m, \u001b[38;5;34m23\u001b[0m, \u001b[38;5;34m128\u001b[0m)    │             \u001b[38;5;34m0\u001b[0m │\n",
              "├─────────────────────────────────┼────────────────────────┼───────────────┤\n",
              "│ dropout_2 (\u001b[38;5;33mDropout\u001b[0m)             │ (\u001b[38;5;45mNone\u001b[0m, \u001b[38;5;34m23\u001b[0m, \u001b[38;5;34m23\u001b[0m, \u001b[38;5;34m128\u001b[0m)    │             \u001b[38;5;34m0\u001b[0m │\n",
              "├─────────────────────────────────┼────────────────────────┼───────────────┤\n",
              "│ conv2d_3 (\u001b[38;5;33mConv2D\u001b[0m)               │ (\u001b[38;5;45mNone\u001b[0m, \u001b[38;5;34m21\u001b[0m, \u001b[38;5;34m21\u001b[0m, \u001b[38;5;34m256\u001b[0m)    │       \u001b[38;5;34m295,168\u001b[0m │\n",
              "├─────────────────────────────────┼────────────────────────┼───────────────┤\n",
              "│ batch_normalization_3           │ (\u001b[38;5;45mNone\u001b[0m, \u001b[38;5;34m21\u001b[0m, \u001b[38;5;34m21\u001b[0m, \u001b[38;5;34m256\u001b[0m)    │         \u001b[38;5;34m1,024\u001b[0m │\n",
              "│ (\u001b[38;5;33mBatchNormalization\u001b[0m)            │                        │               │\n",
              "├─────────────────────────────────┼────────────────────────┼───────────────┤\n",
              "│ max_pooling2d_3 (\u001b[38;5;33mMaxPooling2D\u001b[0m)  │ (\u001b[38;5;45mNone\u001b[0m, \u001b[38;5;34m10\u001b[0m, \u001b[38;5;34m10\u001b[0m, \u001b[38;5;34m256\u001b[0m)    │             \u001b[38;5;34m0\u001b[0m │\n",
              "├─────────────────────────────────┼────────────────────────┼───────────────┤\n",
              "│ dropout_3 (\u001b[38;5;33mDropout\u001b[0m)             │ (\u001b[38;5;45mNone\u001b[0m, \u001b[38;5;34m10\u001b[0m, \u001b[38;5;34m10\u001b[0m, \u001b[38;5;34m256\u001b[0m)    │             \u001b[38;5;34m0\u001b[0m │\n",
              "├─────────────────────────────────┼────────────────────────┼───────────────┤\n",
              "│ flatten (\u001b[38;5;33mFlatten\u001b[0m)               │ (\u001b[38;5;45mNone\u001b[0m, \u001b[38;5;34m25600\u001b[0m)          │             \u001b[38;5;34m0\u001b[0m │\n",
              "├─────────────────────────────────┼────────────────────────┼───────────────┤\n",
              "│ dense (\u001b[38;5;33mDense\u001b[0m)                   │ (\u001b[38;5;45mNone\u001b[0m, \u001b[38;5;34m256\u001b[0m)            │     \u001b[38;5;34m6,553,856\u001b[0m │\n",
              "├─────────────────────────────────┼────────────────────────┼───────────────┤\n",
              "│ batch_normalization_4           │ (\u001b[38;5;45mNone\u001b[0m, \u001b[38;5;34m256\u001b[0m)            │         \u001b[38;5;34m1,024\u001b[0m │\n",
              "│ (\u001b[38;5;33mBatchNormalization\u001b[0m)            │                        │               │\n",
              "├─────────────────────────────────┼────────────────────────┼───────────────┤\n",
              "│ dropout_4 (\u001b[38;5;33mDropout\u001b[0m)             │ (\u001b[38;5;45mNone\u001b[0m, \u001b[38;5;34m256\u001b[0m)            │             \u001b[38;5;34m0\u001b[0m │\n",
              "├─────────────────────────────────┼────────────────────────┼───────────────┤\n",
              "│ dense_1 (\u001b[38;5;33mDense\u001b[0m)                 │ (\u001b[38;5;45mNone\u001b[0m, \u001b[38;5;34m53\u001b[0m)             │        \u001b[38;5;34m13,621\u001b[0m │\n",
              "└─────────────────────────────────┴────────────────────────┴───────────────┘\n"
            ],
            "text/html": [
              "<pre style=\"white-space:pre;overflow-x:auto;line-height:normal;font-family:Menlo,'DejaVu Sans Mono',consolas,'Courier New',monospace\">┏━━━━━━━━━━━━━━━━━━━━━━━━━━━━━━━━━┳━━━━━━━━━━━━━━━━━━━━━━━━┳━━━━━━━━━━━━━━━┓\n",
              "┃<span style=\"font-weight: bold\"> Layer (type)                    </span>┃<span style=\"font-weight: bold\"> Output Shape           </span>┃<span style=\"font-weight: bold\">       Param # </span>┃\n",
              "┡━━━━━━━━━━━━━━━━━━━━━━━━━━━━━━━━━╇━━━━━━━━━━━━━━━━━━━━━━━━╇━━━━━━━━━━━━━━━┩\n",
              "│ conv2d (<span style=\"color: #0087ff; text-decoration-color: #0087ff\">Conv2D</span>)                 │ (<span style=\"color: #00d7ff; text-decoration-color: #00d7ff\">None</span>, <span style=\"color: #00af00; text-decoration-color: #00af00\">198</span>, <span style=\"color: #00af00; text-decoration-color: #00af00\">198</span>, <span style=\"color: #00af00; text-decoration-color: #00af00\">32</span>)   │           <span style=\"color: #00af00; text-decoration-color: #00af00\">896</span> │\n",
              "├─────────────────────────────────┼────────────────────────┼───────────────┤\n",
              "│ batch_normalization             │ (<span style=\"color: #00d7ff; text-decoration-color: #00d7ff\">None</span>, <span style=\"color: #00af00; text-decoration-color: #00af00\">198</span>, <span style=\"color: #00af00; text-decoration-color: #00af00\">198</span>, <span style=\"color: #00af00; text-decoration-color: #00af00\">32</span>)   │           <span style=\"color: #00af00; text-decoration-color: #00af00\">128</span> │\n",
              "│ (<span style=\"color: #0087ff; text-decoration-color: #0087ff\">BatchNormalization</span>)            │                        │               │\n",
              "├─────────────────────────────────┼────────────────────────┼───────────────┤\n",
              "│ max_pooling2d (<span style=\"color: #0087ff; text-decoration-color: #0087ff\">MaxPooling2D</span>)    │ (<span style=\"color: #00d7ff; text-decoration-color: #00d7ff\">None</span>, <span style=\"color: #00af00; text-decoration-color: #00af00\">99</span>, <span style=\"color: #00af00; text-decoration-color: #00af00\">99</span>, <span style=\"color: #00af00; text-decoration-color: #00af00\">32</span>)     │             <span style=\"color: #00af00; text-decoration-color: #00af00\">0</span> │\n",
              "├─────────────────────────────────┼────────────────────────┼───────────────┤\n",
              "│ dropout (<span style=\"color: #0087ff; text-decoration-color: #0087ff\">Dropout</span>)               │ (<span style=\"color: #00d7ff; text-decoration-color: #00d7ff\">None</span>, <span style=\"color: #00af00; text-decoration-color: #00af00\">99</span>, <span style=\"color: #00af00; text-decoration-color: #00af00\">99</span>, <span style=\"color: #00af00; text-decoration-color: #00af00\">32</span>)     │             <span style=\"color: #00af00; text-decoration-color: #00af00\">0</span> │\n",
              "├─────────────────────────────────┼────────────────────────┼───────────────┤\n",
              "│ conv2d_1 (<span style=\"color: #0087ff; text-decoration-color: #0087ff\">Conv2D</span>)               │ (<span style=\"color: #00d7ff; text-decoration-color: #00d7ff\">None</span>, <span style=\"color: #00af00; text-decoration-color: #00af00\">97</span>, <span style=\"color: #00af00; text-decoration-color: #00af00\">97</span>, <span style=\"color: #00af00; text-decoration-color: #00af00\">64</span>)     │        <span style=\"color: #00af00; text-decoration-color: #00af00\">18,496</span> │\n",
              "├─────────────────────────────────┼────────────────────────┼───────────────┤\n",
              "│ batch_normalization_1           │ (<span style=\"color: #00d7ff; text-decoration-color: #00d7ff\">None</span>, <span style=\"color: #00af00; text-decoration-color: #00af00\">97</span>, <span style=\"color: #00af00; text-decoration-color: #00af00\">97</span>, <span style=\"color: #00af00; text-decoration-color: #00af00\">64</span>)     │           <span style=\"color: #00af00; text-decoration-color: #00af00\">256</span> │\n",
              "│ (<span style=\"color: #0087ff; text-decoration-color: #0087ff\">BatchNormalization</span>)            │                        │               │\n",
              "├─────────────────────────────────┼────────────────────────┼───────────────┤\n",
              "│ max_pooling2d_1 (<span style=\"color: #0087ff; text-decoration-color: #0087ff\">MaxPooling2D</span>)  │ (<span style=\"color: #00d7ff; text-decoration-color: #00d7ff\">None</span>, <span style=\"color: #00af00; text-decoration-color: #00af00\">48</span>, <span style=\"color: #00af00; text-decoration-color: #00af00\">48</span>, <span style=\"color: #00af00; text-decoration-color: #00af00\">64</span>)     │             <span style=\"color: #00af00; text-decoration-color: #00af00\">0</span> │\n",
              "├─────────────────────────────────┼────────────────────────┼───────────────┤\n",
              "│ dropout_1 (<span style=\"color: #0087ff; text-decoration-color: #0087ff\">Dropout</span>)             │ (<span style=\"color: #00d7ff; text-decoration-color: #00d7ff\">None</span>, <span style=\"color: #00af00; text-decoration-color: #00af00\">48</span>, <span style=\"color: #00af00; text-decoration-color: #00af00\">48</span>, <span style=\"color: #00af00; text-decoration-color: #00af00\">64</span>)     │             <span style=\"color: #00af00; text-decoration-color: #00af00\">0</span> │\n",
              "├─────────────────────────────────┼────────────────────────┼───────────────┤\n",
              "│ conv2d_2 (<span style=\"color: #0087ff; text-decoration-color: #0087ff\">Conv2D</span>)               │ (<span style=\"color: #00d7ff; text-decoration-color: #00d7ff\">None</span>, <span style=\"color: #00af00; text-decoration-color: #00af00\">46</span>, <span style=\"color: #00af00; text-decoration-color: #00af00\">46</span>, <span style=\"color: #00af00; text-decoration-color: #00af00\">128</span>)    │        <span style=\"color: #00af00; text-decoration-color: #00af00\">73,856</span> │\n",
              "├─────────────────────────────────┼────────────────────────┼───────────────┤\n",
              "│ batch_normalization_2           │ (<span style=\"color: #00d7ff; text-decoration-color: #00d7ff\">None</span>, <span style=\"color: #00af00; text-decoration-color: #00af00\">46</span>, <span style=\"color: #00af00; text-decoration-color: #00af00\">46</span>, <span style=\"color: #00af00; text-decoration-color: #00af00\">128</span>)    │           <span style=\"color: #00af00; text-decoration-color: #00af00\">512</span> │\n",
              "│ (<span style=\"color: #0087ff; text-decoration-color: #0087ff\">BatchNormalization</span>)            │                        │               │\n",
              "├─────────────────────────────────┼────────────────────────┼───────────────┤\n",
              "│ max_pooling2d_2 (<span style=\"color: #0087ff; text-decoration-color: #0087ff\">MaxPooling2D</span>)  │ (<span style=\"color: #00d7ff; text-decoration-color: #00d7ff\">None</span>, <span style=\"color: #00af00; text-decoration-color: #00af00\">23</span>, <span style=\"color: #00af00; text-decoration-color: #00af00\">23</span>, <span style=\"color: #00af00; text-decoration-color: #00af00\">128</span>)    │             <span style=\"color: #00af00; text-decoration-color: #00af00\">0</span> │\n",
              "├─────────────────────────────────┼────────────────────────┼───────────────┤\n",
              "│ dropout_2 (<span style=\"color: #0087ff; text-decoration-color: #0087ff\">Dropout</span>)             │ (<span style=\"color: #00d7ff; text-decoration-color: #00d7ff\">None</span>, <span style=\"color: #00af00; text-decoration-color: #00af00\">23</span>, <span style=\"color: #00af00; text-decoration-color: #00af00\">23</span>, <span style=\"color: #00af00; text-decoration-color: #00af00\">128</span>)    │             <span style=\"color: #00af00; text-decoration-color: #00af00\">0</span> │\n",
              "├─────────────────────────────────┼────────────────────────┼───────────────┤\n",
              "│ conv2d_3 (<span style=\"color: #0087ff; text-decoration-color: #0087ff\">Conv2D</span>)               │ (<span style=\"color: #00d7ff; text-decoration-color: #00d7ff\">None</span>, <span style=\"color: #00af00; text-decoration-color: #00af00\">21</span>, <span style=\"color: #00af00; text-decoration-color: #00af00\">21</span>, <span style=\"color: #00af00; text-decoration-color: #00af00\">256</span>)    │       <span style=\"color: #00af00; text-decoration-color: #00af00\">295,168</span> │\n",
              "├─────────────────────────────────┼────────────────────────┼───────────────┤\n",
              "│ batch_normalization_3           │ (<span style=\"color: #00d7ff; text-decoration-color: #00d7ff\">None</span>, <span style=\"color: #00af00; text-decoration-color: #00af00\">21</span>, <span style=\"color: #00af00; text-decoration-color: #00af00\">21</span>, <span style=\"color: #00af00; text-decoration-color: #00af00\">256</span>)    │         <span style=\"color: #00af00; text-decoration-color: #00af00\">1,024</span> │\n",
              "│ (<span style=\"color: #0087ff; text-decoration-color: #0087ff\">BatchNormalization</span>)            │                        │               │\n",
              "├─────────────────────────────────┼────────────────────────┼───────────────┤\n",
              "│ max_pooling2d_3 (<span style=\"color: #0087ff; text-decoration-color: #0087ff\">MaxPooling2D</span>)  │ (<span style=\"color: #00d7ff; text-decoration-color: #00d7ff\">None</span>, <span style=\"color: #00af00; text-decoration-color: #00af00\">10</span>, <span style=\"color: #00af00; text-decoration-color: #00af00\">10</span>, <span style=\"color: #00af00; text-decoration-color: #00af00\">256</span>)    │             <span style=\"color: #00af00; text-decoration-color: #00af00\">0</span> │\n",
              "├─────────────────────────────────┼────────────────────────┼───────────────┤\n",
              "│ dropout_3 (<span style=\"color: #0087ff; text-decoration-color: #0087ff\">Dropout</span>)             │ (<span style=\"color: #00d7ff; text-decoration-color: #00d7ff\">None</span>, <span style=\"color: #00af00; text-decoration-color: #00af00\">10</span>, <span style=\"color: #00af00; text-decoration-color: #00af00\">10</span>, <span style=\"color: #00af00; text-decoration-color: #00af00\">256</span>)    │             <span style=\"color: #00af00; text-decoration-color: #00af00\">0</span> │\n",
              "├─────────────────────────────────┼────────────────────────┼───────────────┤\n",
              "│ flatten (<span style=\"color: #0087ff; text-decoration-color: #0087ff\">Flatten</span>)               │ (<span style=\"color: #00d7ff; text-decoration-color: #00d7ff\">None</span>, <span style=\"color: #00af00; text-decoration-color: #00af00\">25600</span>)          │             <span style=\"color: #00af00; text-decoration-color: #00af00\">0</span> │\n",
              "├─────────────────────────────────┼────────────────────────┼───────────────┤\n",
              "│ dense (<span style=\"color: #0087ff; text-decoration-color: #0087ff\">Dense</span>)                   │ (<span style=\"color: #00d7ff; text-decoration-color: #00d7ff\">None</span>, <span style=\"color: #00af00; text-decoration-color: #00af00\">256</span>)            │     <span style=\"color: #00af00; text-decoration-color: #00af00\">6,553,856</span> │\n",
              "├─────────────────────────────────┼────────────────────────┼───────────────┤\n",
              "│ batch_normalization_4           │ (<span style=\"color: #00d7ff; text-decoration-color: #00d7ff\">None</span>, <span style=\"color: #00af00; text-decoration-color: #00af00\">256</span>)            │         <span style=\"color: #00af00; text-decoration-color: #00af00\">1,024</span> │\n",
              "│ (<span style=\"color: #0087ff; text-decoration-color: #0087ff\">BatchNormalization</span>)            │                        │               │\n",
              "├─────────────────────────────────┼────────────────────────┼───────────────┤\n",
              "│ dropout_4 (<span style=\"color: #0087ff; text-decoration-color: #0087ff\">Dropout</span>)             │ (<span style=\"color: #00d7ff; text-decoration-color: #00d7ff\">None</span>, <span style=\"color: #00af00; text-decoration-color: #00af00\">256</span>)            │             <span style=\"color: #00af00; text-decoration-color: #00af00\">0</span> │\n",
              "├─────────────────────────────────┼────────────────────────┼───────────────┤\n",
              "│ dense_1 (<span style=\"color: #0087ff; text-decoration-color: #0087ff\">Dense</span>)                 │ (<span style=\"color: #00d7ff; text-decoration-color: #00d7ff\">None</span>, <span style=\"color: #00af00; text-decoration-color: #00af00\">53</span>)             │        <span style=\"color: #00af00; text-decoration-color: #00af00\">13,621</span> │\n",
              "└─────────────────────────────────┴────────────────────────┴───────────────┘\n",
              "</pre>\n"
            ]
          },
          "metadata": {}
        },
        {
          "output_type": "display_data",
          "data": {
            "text/plain": [
              "\u001b[1m Total params: \u001b[0m\u001b[38;5;34m6,958,837\u001b[0m (26.55 MB)\n"
            ],
            "text/html": [
              "<pre style=\"white-space:pre;overflow-x:auto;line-height:normal;font-family:Menlo,'DejaVu Sans Mono',consolas,'Courier New',monospace\"><span style=\"font-weight: bold\"> Total params: </span><span style=\"color: #00af00; text-decoration-color: #00af00\">6,958,837</span> (26.55 MB)\n",
              "</pre>\n"
            ]
          },
          "metadata": {}
        },
        {
          "output_type": "display_data",
          "data": {
            "text/plain": [
              "\u001b[1m Trainable params: \u001b[0m\u001b[38;5;34m6,957,365\u001b[0m (26.54 MB)\n"
            ],
            "text/html": [
              "<pre style=\"white-space:pre;overflow-x:auto;line-height:normal;font-family:Menlo,'DejaVu Sans Mono',consolas,'Courier New',monospace\"><span style=\"font-weight: bold\"> Trainable params: </span><span style=\"color: #00af00; text-decoration-color: #00af00\">6,957,365</span> (26.54 MB)\n",
              "</pre>\n"
            ]
          },
          "metadata": {}
        },
        {
          "output_type": "display_data",
          "data": {
            "text/plain": [
              "\u001b[1m Non-trainable params: \u001b[0m\u001b[38;5;34m1,472\u001b[0m (5.75 KB)\n"
            ],
            "text/html": [
              "<pre style=\"white-space:pre;overflow-x:auto;line-height:normal;font-family:Menlo,'DejaVu Sans Mono',consolas,'Courier New',monospace\"><span style=\"font-weight: bold\"> Non-trainable params: </span><span style=\"color: #00af00; text-decoration-color: #00af00\">1,472</span> (5.75 KB)\n",
              "</pre>\n"
            ]
          },
          "metadata": {}
        }
      ]
    },
    {
      "cell_type": "code",
      "metadata": {
        "colab": {
          "base_uri": "https://localhost:8080/"
        },
        "id": "a46bcf1a",
        "outputId": "f80dd9b6-c081-428d-8bb6-919d2fd42fd6"
      },
      "source": [
        "# from tensorflow.keras.callbacks import EarlyStopping\n",
        "\n",
        "# early_stopping = EarlyStopping(\n",
        "#     monitor='val_loss',\n",
        "#     patience=10,\n",
        "#     restore_best_weights=True\n",
        "# )\n",
        "from tensorflow.keras.callbacks import LambdaCallback\n",
        "\n",
        "target_accuracy = 0.85\n",
        "\n",
        "# Logika untuk menghentikan pelatihan didefinisikan di dalam lambda\n",
        "# yang akan dijalankan pada setiap akhir epoch (on_epoch_end).\n",
        "stoppping_callback = LambdaCallback(\n",
        "    on_epoch_end=lambda epoch, logs:\n",
        "        # Hentikan model jika kondisi terpenuhi\n",
        "        setattr(model, 'stop_training', True)\n",
        "        # Kondisi: jika akurasi dan val_akurasi sudah ada dan keduanya >= target\n",
        "        if logs.get('accuracy') is not None and logs.get('val_accuracy') is not None\n",
        "        and logs.get('accuracy') >= target_accuracy and logs.get('val_accuracy') >= target_accuracy\n",
        "        else setattr(model, 'stop_training', False) # Lanjutkan jika tidak\n",
        ")\n",
        "\n",
        "print(\"\\n--- Starting Model Training ---\")\n",
        "# --- PERUBAHAN 3b: Menambah jumlah epoch ---\n",
        "# Kita beri lebih banyak epoch (misal: 50), karena EarlyStopping akan menemukan epoch terbaik secara otomatis.\n",
        "epochs = 100\n",
        "history = model.fit(\n",
        "    train_ds,\n",
        "    validation_data=val_ds,\n",
        "    epochs=epochs,\n",
        "    # --- PERUBAHAN 3c: Menambahkan callback ke proses pelatihan ---\n",
        "    callbacks=[stoppping_callback]\n",
        ")\n",
        "print(\"\\n--- Model Training Finished ---\")"
      ],
      "execution_count": null,
      "outputs": [
        {
          "output_type": "stream",
          "name": "stdout",
          "text": [
            "\n",
            "--- Starting Model Training ---\n",
            "Epoch 1/100\n",
            "\u001b[1m247/247\u001b[0m \u001b[32m━━━━━━━━━━━━━━━━━━━━\u001b[0m\u001b[37m\u001b[0m \u001b[1m54s\u001b[0m 124ms/step - accuracy: 0.0923 - loss: 5.1266 - val_accuracy: 0.2945 - val_loss: 3.6241\n",
            "Epoch 2/100\n",
            "\u001b[1m247/247\u001b[0m \u001b[32m━━━━━━━━━━━━━━━━━━━━\u001b[0m\u001b[37m\u001b[0m \u001b[1m12s\u001b[0m 51ms/step - accuracy: 0.2737 - loss: 3.6886 - val_accuracy: 0.4110 - val_loss: 3.1256\n",
            "Epoch 3/100\n",
            "\u001b[1m247/247\u001b[0m \u001b[32m━━━━━━━━━━━━━━━━━━━━\u001b[0m\u001b[37m\u001b[0m \u001b[1m21s\u001b[0m 52ms/step - accuracy: 0.3739 - loss: 3.1987 - val_accuracy: 0.5176 - val_loss: 2.8519\n",
            "Epoch 4/100\n",
            "\u001b[1m247/247\u001b[0m \u001b[32m━━━━━━━━━━━━━━━━━━━━\u001b[0m\u001b[37m\u001b[0m \u001b[1m13s\u001b[0m 52ms/step - accuracy: 0.4431 - loss: 2.9106 - val_accuracy: 0.5963 - val_loss: 2.6742\n",
            "Epoch 5/100\n",
            "\u001b[1m247/247\u001b[0m \u001b[32m━━━━━━━━━━━━━━━━━━━━\u001b[0m\u001b[37m\u001b[0m \u001b[1m21s\u001b[0m 52ms/step - accuracy: 0.4974 - loss: 2.7109 - val_accuracy: 0.6524 - val_loss: 2.2942\n",
            "Epoch 6/100\n",
            "\u001b[1m247/247\u001b[0m \u001b[32m━━━━━━━━━━━━━━━━━━━━\u001b[0m\u001b[37m\u001b[0m \u001b[1m13s\u001b[0m 52ms/step - accuracy: 0.5598 - loss: 2.4712 - val_accuracy: 0.6917 - val_loss: 2.3613\n",
            "Epoch 7/100\n",
            "\u001b[1m247/247\u001b[0m \u001b[32m━━━━━━━━━━━━━━━━━━━━\u001b[0m\u001b[37m\u001b[0m \u001b[1m20s\u001b[0m 51ms/step - accuracy: 0.6088 - loss: 2.2670 - val_accuracy: 0.7582 - val_loss: 2.0421\n",
            "Epoch 8/100\n",
            "\u001b[1m247/247\u001b[0m \u001b[32m━━━━━━━━━━━━━━━━━━━━\u001b[0m\u001b[37m\u001b[0m \u001b[1m13s\u001b[0m 52ms/step - accuracy: 0.6497 - loss: 2.1473 - val_accuracy: 0.7911 - val_loss: 1.8761\n",
            "Epoch 9/100\n",
            "\u001b[1m247/247\u001b[0m \u001b[32m━━━━━━━━━━━━━━━━━━━━\u001b[0m\u001b[37m\u001b[0m \u001b[1m13s\u001b[0m 51ms/step - accuracy: 0.7081 - loss: 1.9231 - val_accuracy: 0.8453 - val_loss: 1.5928\n",
            "Epoch 10/100\n",
            "\u001b[1m247/247\u001b[0m \u001b[32m━━━━━━━━━━━━━━━━━━━━\u001b[0m\u001b[37m\u001b[0m \u001b[1m21s\u001b[0m 52ms/step - accuracy: 0.7374 - loss: 1.7922 - val_accuracy: 0.8663 - val_loss: 1.4821\n",
            "Epoch 11/100\n",
            "\u001b[1m247/247\u001b[0m \u001b[32m━━━━━━━━━━━━━━━━━━━━\u001b[0m\u001b[37m\u001b[0m \u001b[1m20s\u001b[0m 51ms/step - accuracy: 0.7845 - loss: 1.6528 - val_accuracy: 0.9091 - val_loss: 1.3445\n",
            "Epoch 12/100\n",
            "\u001b[1m247/247\u001b[0m \u001b[32m━━━━━━━━━━━━━━━━━━━━\u001b[0m\u001b[37m\u001b[0m \u001b[1m13s\u001b[0m 52ms/step - accuracy: 0.8059 - loss: 1.5619 - val_accuracy: 0.9305 - val_loss: 1.2270\n",
            "Epoch 13/100\n",
            "\u001b[1m247/247\u001b[0m \u001b[32m━━━━━━━━━━━━━━━━━━━━\u001b[0m\u001b[37m\u001b[0m \u001b[1m13s\u001b[0m 52ms/step - accuracy: 0.8401 - loss: 1.4593 - val_accuracy: 0.9412 - val_loss: 1.1239\n",
            "Epoch 14/100\n",
            "\u001b[1m247/247\u001b[0m \u001b[32m━━━━━━━━━━━━━━━━━━━━\u001b[0m\u001b[37m\u001b[0m \u001b[1m13s\u001b[0m 53ms/step - accuracy: 0.8656 - loss: 1.3593 - val_accuracy: 0.9599 - val_loss: 1.0612\n",
            "\n",
            "--- Model Training Finished ---\n"
          ]
        }
      ]
    },
    {
      "cell_type": "code",
      "metadata": {
        "colab": {
          "base_uri": "https://localhost:8080/",
          "height": 573
        },
        "id": "f32f1d9b",
        "outputId": "34fd22fb-fb38-46af-e8ea-87661e9516fe"
      },
      "source": [
        "import matplotlib.pyplot as plt\n",
        "\n",
        "print(\"\\n--- Visualizing Training Results ---\")\n",
        "\n",
        "# Mendapatkan jumlah epoch yang sebenarnya berjalan sebelum dihentikan\n",
        "actual_epochs = len(history.history['loss'])\n",
        "\n",
        "acc = history.history['accuracy']\n",
        "val_acc = history.history['val_accuracy']\n",
        "loss = history.history['loss']\n",
        "val_loss = history.history['val_loss']\n",
        "\n",
        "# Menggunakan rentang epoch yang sebenarnya untuk plot\n",
        "epochs_range = range(actual_epochs)\n",
        "\n",
        "plt.figure(figsize=(12, 5))\n",
        "plt.subplot(1, 2, 1)\n",
        "plt.plot(epochs_range, acc, label='Training Accuracy')\n",
        "plt.plot(epochs_range, val_acc, label='Validation Accuracy')\n",
        "plt.legend(loc='lower right')\n",
        "plt.title('Training and Validation Accuracy')\n",
        "plt.xlabel('Epoch')\n",
        "plt.ylabel('Accuracy')\n",
        "\n",
        "plt.subplot(1, 2, 2)\n",
        "plt.plot(epochs_range, loss, label='Training Loss')\n",
        "plt.plot(epochs_range, val_loss, label='Validation Loss')\n",
        "plt.legend(loc='upper right')\n",
        "plt.title('Training and Validation Loss')\n",
        "plt.xlabel('Epoch')\n",
        "plt.ylabel('Loss')\n",
        "plt.show()\n",
        "\n",
        "# Mengevaluasi model pada data tes\n",
        "print(\"\\n--- Evaluating Model on Test Data ---\")\n",
        "test_loss, test_acc = model.evaluate(test_ds, verbose=2)\n",
        "print(f'\\nTest accuracy: {test_acc:.2f}')"
      ],
      "execution_count": null,
      "outputs": [
        {
          "output_type": "stream",
          "name": "stdout",
          "text": [
            "\n",
            "--- Visualizing Training Results ---\n"
          ]
        },
        {
          "output_type": "display_data",
          "data": {
            "text/plain": [
              "<Figure size 1200x500 with 2 Axes>"
            ],
            "image/png": "[encoded data removed]"
          },
          "metadata": {}
        },
        {
          "output_type": "stream",
          "name": "stdout",
          "text": [
            "\n",
            "--- Evaluating Model on Test Data ---\n",
            "90/90 - 9s - 97ms/step - accuracy: 0.9595 - loss: 1.0541\n",
            "\n",
            "Test accuracy: 0.96\n"
          ]
        }
      ]
    },
    {
      "cell_type": "markdown",
      "metadata": {
        "id": "cd2f5a9f"
      },
      "source": [
        "## Evaluasi dan Visualisasi"
      ]
    },
    {
      "cell_type": "markdown",
      "metadata": {
        "id": "y_fIsUogYFSk"
      },
      "source": [
        "## Konversi Model"
      ]
    },
    {
      "cell_type": "code",
      "execution_count": null,
      "metadata": {
        "id": "hZvGBpYoYFSl",
        "colab": {
          "base_uri": "https://localhost:8080/"
        },
        "outputId": "fdcc0ed3-7bd5-4924-8d42-180d34028470"
      },
      "outputs": [
        {
          "output_type": "stream",
          "name": "stdout",
          "text": [
            "\n",
            "--- Converting Model to TFLite ---\n",
            "Saved artifact at '/tmp/tmpy8vqkqwj'. The following endpoints are available:\n",
            "\n",
            "* Endpoint 'serve'\n",
            "  args_0 (POSITIONAL_ONLY): TensorSpec(shape=(None, 200, 200, 3), dtype=tf.float32, name='keras_tensor_6')\n",
            "Output Type:\n",
            "  TensorSpec(shape=(None, 53), dtype=tf.float32, name=None)\n",
            "Captures:\n",
            "  133492959590544: TensorSpec(shape=(), dtype=tf.resource, name=None)\n",
            "  133492959592080: TensorSpec(shape=(), dtype=tf.resource, name=None)\n",
            "  133492956677712: TensorSpec(shape=(), dtype=tf.resource, name=None)\n",
            "  133492956678672: TensorSpec(shape=(), dtype=tf.resource, name=None)\n",
            "  133492959591696: TensorSpec(shape=(), dtype=tf.resource, name=None)\n",
            "  133492959591504: TensorSpec(shape=(), dtype=tf.resource, name=None)\n",
            "  133492956679248: TensorSpec(shape=(), dtype=tf.resource, name=None)\n",
            "  133492956679824: TensorSpec(shape=(), dtype=tf.resource, name=None)\n",
            "  133492956680208: TensorSpec(shape=(), dtype=tf.resource, name=None)\n",
            "  133492956681168: TensorSpec(shape=(), dtype=tf.resource, name=None)\n",
            "  133492956680976: TensorSpec(shape=(), dtype=tf.resource, name=None)\n",
            "  133492956680400: TensorSpec(shape=(), dtype=tf.resource, name=None)\n",
            "  133492956680784: TensorSpec(shape=(), dtype=tf.resource, name=None)\n",
            "  133492956680016: TensorSpec(shape=(), dtype=tf.resource, name=None)\n",
            "  133492956679632: TensorSpec(shape=(), dtype=tf.resource, name=None)\n",
            "  133492956682320: TensorSpec(shape=(), dtype=tf.resource, name=None)\n",
            "  133492956682128: TensorSpec(shape=(), dtype=tf.resource, name=None)\n",
            "  133492956679440: TensorSpec(shape=(), dtype=tf.resource, name=None)\n",
            "  133492956681936: TensorSpec(shape=(), dtype=tf.resource, name=None)\n",
            "  133492956681360: TensorSpec(shape=(), dtype=tf.resource, name=None)\n",
            "  133492956676944: TensorSpec(shape=(), dtype=tf.resource, name=None)\n",
            "  133492956683472: TensorSpec(shape=(), dtype=tf.resource, name=None)\n",
            "  133492956683280: TensorSpec(shape=(), dtype=tf.resource, name=None)\n",
            "  133492956681552: TensorSpec(shape=(), dtype=tf.resource, name=None)\n",
            "  133492956683088: TensorSpec(shape=(), dtype=tf.resource, name=None)\n",
            "  133492956682512: TensorSpec(shape=(), dtype=tf.resource, name=None)\n",
            "  133492956683856: TensorSpec(shape=(), dtype=tf.resource, name=None)\n",
            "  133492956680592: TensorSpec(shape=(), dtype=tf.resource, name=None)\n",
            "  133492959589584: TensorSpec(shape=(), dtype=tf.resource, name=None)\n",
            "  133492956682704: TensorSpec(shape=(), dtype=tf.resource, name=None)\n",
            "  133492956684048: TensorSpec(shape=(), dtype=tf.resource, name=None)\n",
            "  133492956683664: TensorSpec(shape=(), dtype=tf.resource, name=None)\n",
            "TensorFlow Lite model saved to 'model.tflite'\n"
          ]
        }
      ],
      "source": [
        "# --- 7. CONVERT AND SAVE THE MODEL ---\n",
        "# Convert the trained Keras model to TensorFlow Lite format.\n",
        "\n",
        "print(\"\\n--- Converting Model to TFLite ---\")\n",
        "\n",
        "# Instantiate a TFLiteConverter object using the trained Keras model\n",
        "converter = tf.lite.TFLiteConverter.from_keras_model(model)\n",
        "\n",
        "# Convert the model\n",
        "tflite_model = converter.convert()\n",
        "\n",
        "# Save the TensorFlow Lite model to a file\n",
        "tflite_file_path = 'model.tflite'\n",
        "with open(tflite_file_path, 'wb') as f:\n",
        "    f.write(tflite_model)\n",
        "\n",
        "print(f\"TensorFlow Lite model saved to '{tflite_file_path}'\")"
      ]
    },
    {
      "cell_type": "code",
      "source": [
        "!pip install tensorflowjs\n",
        "# --- 8. CONVERT AND SAVE THE MODEL TO TFJS ---\n",
        "# Convert the trained Keras model to TensorFlow.js format.\n",
        "\n",
        "print(\"\\n--- Converting Model to TensorFlow.js ---\")\n",
        "\n",
        "# Import tensorflowjs library\n",
        "import tensorflowjs as tfjs\n",
        "\n",
        "# Define the output directory for the TensorFlow.js model\n",
        "tfjs_model_dir = 'tfjs_model'\n",
        "\n",
        "# Convert the trained Keras model and save it to the specified directory\n",
        "tfjs.converters.save_keras_model(model, tfjs_model_dir)\n",
        "\n",
        "print(f\"TensorFlow.js model saved to '{tfjs_model_dir}'\")"
      ],
      "metadata": {
        "colab": {
          "base_uri": "https://localhost:8080/",
          "height": 1000
        },
        "id": "DPwgnGMIGS73",
        "outputId": "bff236d1-37c1-48dc-facd-655476613cb5"
      },
      "execution_count": null,
      "outputs": [
        {
          "output_type": "stream",
          "name": "stdout",
          "text": [
            "Collecting tensorflowjs\n",
            "  Downloading tensorflowjs-4.22.0-py3-none-any.whl.metadata (3.2 kB)\n",
            "Requirement already satisfied: flax>=0.7.2 in /usr/local/lib/python3.11/dist-packages (from tensorflowjs) (0.10.6)\n",
            "Requirement already satisfied: importlib_resources>=5.9.0 in /usr/local/lib/python3.11/dist-packages (from tensorflowjs) (6.5.2)\n",
            "Requirement already satisfied: jax>=0.4.13 in /usr/local/lib/python3.11/dist-packages (from tensorflowjs) (0.5.2)\n",
            "Requirement already satisfied: jaxlib>=0.4.13 in /usr/local/lib/python3.11/dist-packages (from tensorflowjs) (0.5.1)\n",
            "Requirement already satisfied: tensorflow<3,>=2.13.0 in /usr/local/lib/python3.11/dist-packages (from tensorflowjs) (2.18.0)\n",
            "Requirement already satisfied: tf-keras>=2.13.0 in /usr/local/lib/python3.11/dist-packages (from tensorflowjs) (2.18.0)\n",
            "Requirement already satisfied: tensorflow-decision-forests>=1.5.0 in /usr/local/lib/python3.11/dist-packages (from tensorflowjs) (1.11.0)\n",
            "Requirement already satisfied: six<2,>=1.16.0 in /usr/local/lib/python3.11/dist-packages (from tensorflowjs) (1.17.0)\n",
            "Requirement already satisfied: tensorflow-hub>=0.16.1 in /usr/local/lib/python3.11/dist-packages (from tensorflowjs) (0.16.1)\n",
            "Collecting packaging~=23.1 (from tensorflowjs)\n",
            "  Downloading packaging-23.2-py3-none-any.whl.metadata (3.2 kB)\n",
            "Requirement already satisfied: numpy>=1.23.2 in /usr/local/lib/python3.11/dist-packages (from flax>=0.7.2->tensorflowjs) (2.0.2)\n",
            "Requirement already satisfied: msgpack in /usr/local/lib/python3.11/dist-packages (from flax>=0.7.2->tensorflowjs) (1.1.1)\n",
            "Requirement already satisfied: optax in /usr/local/lib/python3.11/dist-packages (from flax>=0.7.2->tensorflowjs) (0.2.5)\n",
            "Requirement already satisfied: orbax-checkpoint in /usr/local/lib/python3.11/dist-packages (from flax>=0.7.2->tensorflowjs) (0.11.16)\n",
            "Requirement already satisfied: tensorstore in /usr/local/lib/python3.11/dist-packages (from flax>=0.7.2->tensorflowjs) (0.1.74)\n",
            "Requirement already satisfied: rich>=11.1 in /usr/local/lib/python3.11/dist-packages (from flax>=0.7.2->tensorflowjs) (13.9.4)\n",
            "Requirement already satisfied: typing_extensions>=4.2 in /usr/local/lib/python3.11/dist-packages (from flax>=0.7.2->tensorflowjs) (4.14.0)\n",
            "Requirement already satisfied: PyYAML>=5.4.1 in /usr/local/lib/python3.11/dist-packages (from flax>=0.7.2->tensorflowjs) (6.0.2)\n",
            "Requirement already satisfied: treescope>=0.1.7 in /usr/local/lib/python3.11/dist-packages (from flax>=0.7.2->tensorflowjs) (0.1.9)\n",
            "Requirement already satisfied: ml_dtypes>=0.4.0 in /usr/local/lib/python3.11/dist-packages (from jax>=0.4.13->tensorflowjs) (0.4.1)\n",
            "Requirement already satisfied: opt_einsum in /usr/local/lib/python3.11/dist-packages (from jax>=0.4.13->tensorflowjs) (3.4.0)\n",
            "Requirement already satisfied: scipy>=1.11.1 in /usr/local/lib/python3.11/dist-packages (from jax>=0.4.13->tensorflowjs) (1.15.3)\n",
            "Requirement already satisfied: absl-py>=1.0.0 in /usr/local/lib/python3.11/dist-packages (from tensorflow<3,>=2.13.0->tensorflowjs) (1.4.0)\n",
            "Requirement already satisfied: astunparse>=1.6.0 in /usr/local/lib/python3.11/dist-packages (from tensorflow<3,>=2.13.0->tensorflowjs) (1.6.3)\n",
            "Requirement already satisfied: flatbuffers>=24.3.25 in /usr/local/lib/python3.11/dist-packages (from tensorflow<3,>=2.13.0->tensorflowjs) (25.2.10)\n",
            "Requirement already satisfied: gast!=0.5.0,!=0.5.1,!=0.5.2,>=0.2.1 in /usr/local/lib/python3.11/dist-packages (from tensorflow<3,>=2.13.0->tensorflowjs) (0.6.0)\n",
            "Requirement already satisfied: google-pasta>=0.1.1 in /usr/local/lib/python3.11/dist-packages (from tensorflow<3,>=2.13.0->tensorflowjs) (0.2.0)\n",
            "Requirement already satisfied: libclang>=13.0.0 in /usr/local/lib/python3.11/dist-packages (from tensorflow<3,>=2.13.0->tensorflowjs) (18.1.1)\n",
            "Requirement already satisfied: protobuf!=4.21.0,!=4.21.1,!=4.21.2,!=4.21.3,!=4.21.4,!=4.21.5,<6.0.0dev,>=3.20.3 in /usr/local/lib/python3.11/dist-packages (from tensorflow<3,>=2.13.0->tensorflowjs) (5.29.5)\n",
            "Requirement already satisfied: requests<3,>=2.21.0 in /usr/local/lib/python3.11/dist-packages (from tensorflow<3,>=2.13.0->tensorflowjs) (2.32.3)\n",
            "Requirement already satisfied: setuptools in /usr/local/lib/python3.11/dist-packages (from tensorflow<3,>=2.13.0->tensorflowjs) (75.2.0)\n",
            "Requirement already satisfied: termcolor>=1.1.0 in /usr/local/lib/python3.11/dist-packages (from tensorflow<3,>=2.13.0->tensorflowjs) (3.1.0)\n",
            "Requirement already satisfied: wrapt>=1.11.0 in /usr/local/lib/python3.11/dist-packages (from tensorflow<3,>=2.13.0->tensorflowjs) (1.17.2)\n",
            "Requirement already satisfied: grpcio<2.0,>=1.24.3 in /usr/local/lib/python3.11/dist-packages (from tensorflow<3,>=2.13.0->tensorflowjs) (1.73.1)\n",
            "Requirement already satisfied: tensorboard<2.19,>=2.18 in /usr/local/lib/python3.11/dist-packages (from tensorflow<3,>=2.13.0->tensorflowjs) (2.18.0)\n",
            "Requirement already satisfied: keras>=3.5.0 in /usr/local/lib/python3.11/dist-packages (from tensorflow<3,>=2.13.0->tensorflowjs) (3.8.0)\n",
            "Requirement already satisfied: h5py>=3.11.0 in /usr/local/lib/python3.11/dist-packages (from tensorflow<3,>=2.13.0->tensorflowjs) (3.14.0)\n",
            "Requirement already satisfied: tensorflow-io-gcs-filesystem>=0.23.1 in /usr/local/lib/python3.11/dist-packages (from tensorflow<3,>=2.13.0->tensorflowjs) (0.37.1)\n",
            "Requirement already satisfied: pandas in /usr/local/lib/python3.11/dist-packages (from tensorflow-decision-forests>=1.5.0->tensorflowjs) (2.2.2)\n",
            "Requirement already satisfied: wheel in /usr/local/lib/python3.11/dist-packages (from tensorflow-decision-forests>=1.5.0->tensorflowjs) (0.45.1)\n",
            "Requirement already satisfied: wurlitzer in /usr/local/lib/python3.11/dist-packages (from tensorflow-decision-forests>=1.5.0->tensorflowjs) (3.1.1)\n",
            "Requirement already satisfied: ydf in /usr/local/lib/python3.11/dist-packages (from tensorflow-decision-forests>=1.5.0->tensorflowjs) (0.12.0)\n",
            "Requirement already satisfied: namex in /usr/local/lib/python3.11/dist-packages (from keras>=3.5.0->tensorflow<3,>=2.13.0->tensorflowjs) (0.1.0)\n",
            "Requirement already satisfied: optree in /usr/local/lib/python3.11/dist-packages (from keras>=3.5.0->tensorflow<3,>=2.13.0->tensorflowjs) (0.16.0)\n",
            "Requirement already satisfied: charset-normalizer<4,>=2 in /usr/local/lib/python3.11/dist-packages (from requests<3,>=2.21.0->tensorflow<3,>=2.13.0->tensorflowjs) (3.4.2)\n",
            "Requirement already satisfied: idna<4,>=2.5 in /usr/local/lib/python3.11/dist-packages (from requests<3,>=2.21.0->tensorflow<3,>=2.13.0->tensorflowjs) (3.10)\n",
            "Requirement already satisfied: urllib3<3,>=1.21.1 in /usr/local/lib/python3.11/dist-packages (from requests<3,>=2.21.0->tensorflow<3,>=2.13.0->tensorflowjs) (2.4.0)\n",
            "Requirement already satisfied: certifi>=2017.4.17 in /usr/local/lib/python3.11/dist-packages (from requests<3,>=2.21.0->tensorflow<3,>=2.13.0->tensorflowjs) (2025.6.15)\n",
            "Requirement already satisfied: markdown-it-py>=2.2.0 in /usr/local/lib/python3.11/dist-packages (from rich>=11.1->flax>=0.7.2->tensorflowjs) (3.0.0)\n",
            "Requirement already satisfied: pygments<3.0.0,>=2.13.0 in /usr/local/lib/python3.11/dist-packages (from rich>=11.1->flax>=0.7.2->tensorflowjs) (2.19.2)\n",
            "Requirement already satisfied: markdown>=2.6.8 in /usr/local/lib/python3.11/dist-packages (from tensorboard<2.19,>=2.18->tensorflow<3,>=2.13.0->tensorflowjs) (3.8.2)\n",
            "Requirement already satisfied: tensorboard-data-server<0.8.0,>=0.7.0 in /usr/local/lib/python3.11/dist-packages (from tensorboard<2.19,>=2.18->tensorflow<3,>=2.13.0->tensorflowjs) (0.7.2)\n",
            "Requirement already satisfied: werkzeug>=1.0.1 in /usr/local/lib/python3.11/dist-packages (from tensorboard<2.19,>=2.18->tensorflow<3,>=2.13.0->tensorflowjs) (3.1.3)\n",
            "Requirement already satisfied: chex>=0.1.87 in /usr/local/lib/python3.11/dist-packages (from optax->flax>=0.7.2->tensorflowjs) (0.1.89)\n",
            "Requirement already satisfied: etils[epath,epy] in /usr/local/lib/python3.11/dist-packages (from orbax-checkpoint->flax>=0.7.2->tensorflowjs) (1.12.2)\n",
            "Requirement already satisfied: nest_asyncio in /usr/local/lib/python3.11/dist-packages (from orbax-checkpoint->flax>=0.7.2->tensorflowjs) (1.6.0)\n",
            "Requirement already satisfied: humanize in /usr/local/lib/python3.11/dist-packages (from orbax-checkpoint->flax>=0.7.2->tensorflowjs) (4.12.3)\n",
            "Requirement already satisfied: simplejson>=3.16.0 in /usr/local/lib/python3.11/dist-packages (from orbax-checkpoint->flax>=0.7.2->tensorflowjs) (3.20.1)\n",
            "Requirement already satisfied: python-dateutil>=2.8.2 in /usr/local/lib/python3.11/dist-packages (from pandas->tensorflow-decision-forests>=1.5.0->tensorflowjs) (2.9.0.post0)\n",
            "Requirement already satisfied: pytz>=2020.1 in /usr/local/lib/python3.11/dist-packages (from pandas->tensorflow-decision-forests>=1.5.0->tensorflowjs) (2025.2)\n",
            "Requirement already satisfied: tzdata>=2022.7 in /usr/local/lib/python3.11/dist-packages (from pandas->tensorflow-decision-forests>=1.5.0->tensorflowjs) (2025.2)\n",
            "Requirement already satisfied: toolz>=0.9.0 in /usr/local/lib/python3.11/dist-packages (from chex>=0.1.87->optax->flax>=0.7.2->tensorflowjs) (0.12.1)\n",
            "Requirement already satisfied: mdurl~=0.1 in /usr/local/lib/python3.11/dist-packages (from markdown-it-py>=2.2.0->rich>=11.1->flax>=0.7.2->tensorflowjs) (0.1.2)\n",
            "Requirement already satisfied: MarkupSafe>=2.1.1 in /usr/local/lib/python3.11/dist-packages (from werkzeug>=1.0.1->tensorboard<2.19,>=2.18->tensorflow<3,>=2.13.0->tensorflowjs) (3.0.2)\n",
            "Requirement already satisfied: fsspec in /usr/local/lib/python3.11/dist-packages (from etils[epath,epy]->orbax-checkpoint->flax>=0.7.2->tensorflowjs) (2025.3.2)\n",
            "Requirement already satisfied: zipp in /usr/local/lib/python3.11/dist-packages (from etils[epath,epy]->orbax-checkpoint->flax>=0.7.2->tensorflowjs) (3.23.0)\n",
            "Downloading tensorflowjs-4.22.0-py3-none-any.whl (89 kB)\n",
            "\u001b[2K   \u001b[90m━━━━━━━━━━━━━━━━━━━━━━━━━━━━━━━━━━━━━━━━\u001b[0m \u001b[32m89.1/89.1 kB\u001b[0m \u001b[31m8.0 MB/s\u001b[0m eta \u001b[36m0:00:00\u001b[0m\n",
            "\u001b[?25hDownloading packaging-23.2-py3-none-any.whl (53 kB)\n",
            "\u001b[2K   \u001b[90m━━━━━━━━━━━━━━━━━━━━━━━━━━━━━━━━━━━━━━━━\u001b[0m \u001b[32m53.0/53.0 kB\u001b[0m \u001b[31m4.9 MB/s\u001b[0m eta \u001b[36m0:00:00\u001b[0m\n",
            "\u001b[?25hInstalling collected packages: packaging, tensorflowjs\n",
            "  Attempting uninstall: packaging\n",
            "    Found existing installation: packaging 24.2\n",
            "    Uninstalling packaging-24.2:\n",
            "      Successfully uninstalled packaging-24.2\n",
            "\u001b[31mERROR: pip's dependency resolver does not currently take into account all the packages that are installed. This behaviour is the source of the following dependency conflicts.\n",
            "google-cloud-bigquery 3.34.0 requires packaging>=24.2.0, but you have packaging 23.2 which is incompatible.\n",
            "db-dtypes 1.4.3 requires packaging>=24.2.0, but you have packaging 23.2 which is incompatible.\u001b[0m\u001b[31m\n",
            "\u001b[0mSuccessfully installed packaging-23.2 tensorflowjs-4.22.0\n"
          ]
        },
        {
          "output_type": "display_data",
          "data": {
            "application/vnd.colab-display-data+json": {
              "pip_warning": {
                "packages": [
                  "packaging"
                ]
              },
              "id": "3e2319134d0240c192c61e85660ebb70"
            }
          },
          "metadata": {}
        },
        {
          "output_type": "stream",
          "name": "stdout",
          "text": [
            "\n",
            "--- Converting Model to TensorFlow.js ---\n"
          ]
        },
        {
          "output_type": "display_data",
          "data": {
            "text/plain": [
              "<IPython.core.display.HTML object>"
            ],
            "text/html": [
              "\n",
              "<p style=\"margin:0px;\">🌲 Try <a href=\"https://ydf.readthedocs.io/en/latest/\" target=\"_blank\">YDF</a>, the successor of\n",
              "    <a href=\"https://www.tensorflow.org/decision_forests\" target=\"_blank\">TensorFlow\n",
              "        Decision Forests</a> using the same algorithms but with more features and faster\n",
              "    training!\n",
              "</p>\n",
              "<div style=\"display: flex; flex-wrap: wrap; margin:5px;max-width: 880px;\">\n",
              "    <div style=\"flex: 1; border-radius: 10px; background-color: F0F0F0; padding: 5px;\">\n",
              "        <p\n",
              "            style=\"font-weight: bold; margin:0px;text-align: center;border-bottom: 1px solid #C0C0C0;margin-bottom: 4px;\">\n",
              "            Old code</p>\n",
              "        <pre style=\"overflow-wrap: anywhere; overflow: auto; margin:0px;font-size: 9pt;\">\n",
              "import tensorflow_decision_forests as tfdf\n",
              "\n",
              "tf_ds = tfdf.keras.pd_dataframe_to_tf_dataset(ds, label=\"l\")\n",
              "model = tfdf.keras.RandomForestModel(label=\"l\")\n",
              "model.fit(tf_ds)\n",
              "</pre>\n",
              "    </div>\n",
              "    <div style=\"width: 5px;\"></div>\n",
              "    <div style=\"flex: 1; border-radius: 10px; background-color: F0F0F0; padding: 5px;\">\n",
              "        <p\n",
              "            style=\"font-weight: bold; margin:0px;text-align: center;border-bottom: 1px solid #C0C0C0;margin-bottom: 4px;\">\n",
              "            New code</p>\n",
              "        <pre style=\"overflow-wrap: anywhere; overflow: auto; margin:0px;font-size: 9pt;\">\n",
              "import ydf\n",
              "\n",
              "model = ydf.RandomForestLearner(label=\"l\").train(ds)\n",
              "</pre>\n",
              "    </div>\n",
              "</div>\n",
              "<p style=\"margin:0px;font-size: 9pt;\">(Learn more in the <a\n",
              "        href=\"https://ydf.readthedocs.io/en/latest/tutorial/migrating_to_ydf/\" target=\"_blank\">migration\n",
              "        guide</a>)</p>\n"
            ]
          },
          "metadata": {}
        },
        {
          "output_type": "stream",
          "name": "stderr",
          "text": [
            "WARNING:absl:You are saving your model as an HDF5 file via `model.save()` or `keras.saving.save_model(model)`. This file format is considered legacy. We recommend using instead the native Keras format, e.g. `model.save('my_model.keras')` or `keras.saving.save_model(model, 'my_model.keras')`. \n"
          ]
        },
        {
          "output_type": "stream",
          "name": "stdout",
          "text": [
            "failed to lookup keras version from the file,\n",
            "    this is likely a weight only file\n",
            "TensorFlow.js model saved to 'tfjs_model'\n"
          ]
        }
      ]
    },
    {
      "cell_type": "code",
      "metadata": {
        "colab": {
          "base_uri": "https://localhost:8080/"
        },
        "id": "b50fb07a",
        "outputId": "c03d3ec6-42a1-4d7e-df61-df4f52d9ebc1"
      },
      "source": [
        "# --- SAVE THE MODEL IN SAVEDMODEL FORMAT ---\n",
        "# Save the trained Keras model in the TensorFlow SavedModel format.\n",
        "\n",
        "print(\"\\n--- Saving Model in SavedModel Format ---\")\n",
        "\n",
        "# Define the directory to save the SavedModel\n",
        "saved_model_dir = 'saved_model'\n",
        "\n",
        "# Save the model\n",
        "tf.saved_model.save(model, saved_model_dir)\n",
        "\n",
        "print(f\"TensorFlow SavedModel saved to '{saved_model_dir}'\")"
      ],
      "execution_count": null,
      "outputs": [
        {
          "output_type": "stream",
          "name": "stdout",
          "text": [
            "\n",
            "--- Saving Model in SavedModel Format ---\n",
            "TensorFlow SavedModel saved to 'saved_model'\n"
          ]
        }
      ]
    }
  ]
}